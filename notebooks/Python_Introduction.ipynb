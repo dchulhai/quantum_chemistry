{
 "cells": [
  {
   "cell_type": "markdown",
   "metadata": {},
   "source": [
    "<figure>\n",
    "  <IMG SRC=\"https://upload.wikimedia.org/wikipedia/en/8/84/University_of_Indianapolis_Official_Seal.png\" WIDTH=120 ALIGN=\"right\">\n",
    "</figure>\n",
    "\n",
    "# Introduction: Python, Jupyter Notebook, Graphing, and SymPy\n",
    "*(c) Dhabih Chulhai, University of Indianapolis*\n",
    "    \n",
    "*Python/Jupyter notebook section modified from work by Mark Bakker, Cindee Madison, and Thomas Kluyver*\n",
    "    \n"
   ]
  },
  {
   "cell_type": "markdown",
   "metadata": {},
   "source": [
    "> ### <a name=\"ex1a\"></a> <span style=\"color:red\">WARNING</span>\n",
    "> \n",
    "> Your progress will NOT be saved, even if you click File/Save. To ensure that you do not lose your work if/when you lose connection to the interect, **write down all of the codes/selections you changed on paper or copy/paste them into a Word document**."
   ]
  },
  {
   "cell_type": "markdown",
   "metadata": {},
   "source": [
    "> ### <a name=\"ex1a\"></a> <span style=\"color:blue\">INFORMATION</span>\n",
    "> \n",
    "> There are 6 exercises below, labeled in **<span style=\"color:red\">red</span>**, that will be graded for credit.\n",
    ">\n",
    "> You can work with each other on these, but you must each submit your *individual* work using the values I assign to you. The internet is also a very useful source of information. There are numerous resources and tutorials online that go into a lot more detail about each of the things I show you here.\n",
    ">\n",
    "> This is the first time I'm trying something like this in a class, so if you find typos or unclear instructions, please let me know."
   ]
  },
  {
   "cell_type": "markdown",
   "metadata": {},
   "source": [
    "## 1. Python and Jupyter Notebook Introduction\n",
    "### 1.1 First Things First: Running Code and Comments\n",
    "A cell of code usually has `In [#]` to the left. In the notebook, to run a cell of code, click on it to highlight it (it should have a blue or green bar on the left side) then hit `Shift+Enter`. This executes the cell and puts the cursor in the next cell below, or makes a new one if you are at the end. Try running the code below by clicking in the box and press `Shift+Enter`. If it ran sucessfully, you should see `Hi` printed below the code. You can also press `Ctrl+Enter` to run code."
   ]
  },
  {
   "cell_type": "code",
   "execution_count": null,
   "metadata": {
    "scrolled": true
   },
   "outputs": [],
   "source": [
    "print(\"Hi\")"
   ]
  },
  {
   "cell_type": "markdown",
   "metadata": {},
   "source": [
    "Generally speaking, cells of codes should be run in order from the top of the notebook to the bottom. You will get unexpected results if you choose to run cells in some other order. If you encounter an error while running a single cell and you're not sure what it means, you can always click `Kernel` in the menu above, then `Restart`.\n",
    "\n",
    "Not everything in a cell of code is actually code that will be run. Everything in a coding line after the hash (`#`) symbol is a *comment*. Comments are there to instruct you, and will not run. If you press `Shift+Enter` in the cell below, nothing will happen because it's all comments."
   ]
  },
  {
   "cell_type": "code",
   "execution_count": null,
   "metadata": {},
   "outputs": [],
   "source": [
    "# This is a comment because the line starts with a hash symbol\n",
    "# This line is also a comment\n",
    "# If you press Shift+Enter on this cell, nothing will happen\n",
    "# because it's all comments and no code"
   ]
  },
  {
   "cell_type": "markdown",
   "metadata": {},
   "source": [
    "### 1.2 Variables\n",
    "\"Portable, powerful, and a breeze to use\", Python is a popular, open-source programming language used for both scripting applications and standalone programs (see \"Learning Python\" by Mark Lutz). Python can be used to do pretty much anything. For example, you can use Python as a calculator. Position your cursor in the code cell below and hit [shift][enter]. The output should be 12 (-:"
   ]
  },
  {
   "cell_type": "code",
   "execution_count": null,
   "metadata": {},
   "outputs": [],
   "source": [
    "6 * 2"
   ]
  },
  {
   "cell_type": "markdown",
   "metadata": {},
   "source": [
    "Note that the extra spaces are added to make the code more readable. \n",
    "`2 * 3` works just as well as `2*3`. And it is considered good style. Use the extra spaces in all your Notebooks.\n",
    "\n",
    "When you are programming, you want to store your values in variables"
   ]
  },
  {
   "cell_type": "code",
   "execution_count": null,
   "metadata": {},
   "outputs": [],
   "source": [
    "a = 6\n",
    "b = 2\n",
    "a * b"
   ]
  },
  {
   "cell_type": "markdown",
   "metadata": {},
   "source": [
    "Both `a` and `b` are now variables. Each variable has a type. In this case, they are both integers (whole numbers). Some of the things we can store in a variable include integers (whole numbers), floats (decimal point numbers) or strings (text inside of since `'` or double `\"` quation marks). Variable names can be single letters, words, or even include characters like underscores (`_`). "
   ]
  },
  {
   "cell_type": "code",
   "execution_count": null,
   "metadata": {},
   "outputs": [],
   "source": [
    "variable_integer = 5 # This variable stores the integer 5\n",
    "variable_float   = 5.0 # This variable stores a floating number 5.0\n",
    "variable_string  = 'some text here' # This variable stores a string"
   ]
  },
  {
   "cell_type": "markdown",
   "metadata": {},
   "source": [
    "### 1.3 Printing\n",
    "To write the value of a variable to the screen, use the `print` function (the last statement of a code cell is automatically printed to the screen if it is not stored in a variable, as was shown above)"
   ]
  },
  {
   "cell_type": "code",
   "execution_count": null,
   "metadata": {},
   "outputs": [],
   "source": [
    "print(a)\n",
    "print(b)\n",
    "print(a * b)\n",
    "print(a / b)"
   ]
  },
  {
   "cell_type": "markdown",
   "metadata": {},
   "source": [
    "You can add some text to the `print` function by putting the text between quotes (either single or double quotes work as long as you use the same at the beginning and end), and separate the text string and the variable by a comma"
   ]
  },
  {
   "cell_type": "code",
   "execution_count": null,
   "metadata": {},
   "outputs": [],
   "source": [
    "print('the value of a is', a)"
   ]
  },
  {
   "cell_type": "markdown",
   "metadata": {},
   "source": [
    "### <a name=\"ex1a\"></a> <span style=\"color:red\">Exercise 1: Firsy Python Code</span>\n",
    "Most coding classes start with printing the phrase `Hello, World!` to the screen. Use the code box below to print this text. Remember to press `Shift+Enter` or `Ctrl+Enter` to run the code."
   ]
  },
  {
   "cell_type": "code",
   "execution_count": null,
   "metadata": {},
   "outputs": [],
   "source": []
  },
  {
   "cell_type": "markdown",
   "metadata": {},
   "source": [
    "### 1.4 Operations\n",
    "All of the basic math operators work like you think they should for numbers. They can also do some useful operations on other things, like strings. There are also boolean operators that compare quantities and give back a bool variable as a result."
   ]
  },
  {
   "cell_type": "code",
   "execution_count": null,
   "metadata": {
    "scrolled": true
   },
   "outputs": [],
   "source": [
    "# Standard math operators work as expected on numbers\n",
    "a = 2\n",
    "b = 3\n",
    "print(a + b)\n",
    "print(a * b)\n",
    "print(a ** b)  # a to the power of b (a^b does something completely different!)\n",
    "print(a / b)   # Careful with dividing integers if you use Python 2"
   ]
  },
  {
   "cell_type": "markdown",
   "metadata": {},
   "source": [
    "You can even perform math operations with variables and then store the result in another variable:"
   ]
  },
  {
   "cell_type": "code",
   "execution_count": null,
   "metadata": {},
   "outputs": [],
   "source": [
    "c = a * b\n",
    "print(c)"
   ]
  },
  {
   "cell_type": "markdown",
   "metadata": {},
   "source": [
    "Let's say you want to calculate the value of y in the following equation:\n",
    "$$y = mx + b$$\n",
    "with $m=3$, $x=2$, and $b=6$. We can set this up in python as follows:"
   ]
  },
  {
   "cell_type": "code",
   "execution_count": null,
   "metadata": {
    "scrolled": false
   },
   "outputs": [],
   "source": [
    "m = 3\n",
    "x = 2\n",
    "b = 6\n",
    "y = m * x + b\n",
    "print(y)"
   ]
  },
  {
   "cell_type": "markdown",
   "metadata": {},
   "source": [
    "### <a name=\"ex1a\"></a> <span style=\"color:red\">Exercise 2: Simple Algebra Code</span>\n",
    "Compute the value of the polynomial $y=ax^2+bx+c$ at $x=-2$, $x=0$, and $x=2.1$ **using the values for $a$, $b$ and $c$ assigned to you**, then print the results to the screen."
   ]
  },
  {
   "cell_type": "code",
   "execution_count": null,
   "metadata": {},
   "outputs": [],
   "source": []
  },
  {
   "cell_type": "markdown",
   "metadata": {},
   "source": [
    "### 1.5 Arrays\n",
    "Sometimes we need to deal with lots of numbers, as will be the case in this class. For example, in the exercise above, we needed to calculate the `y` value for three different `x` values. In the given answer, we changed the value of `x`, then recalculated `y` for each new value of `x`. But what if we wanted all three values of `y` at the same time? Well, we can use arrays to help us with this.\n",
    "\n",
    "Arrays come from a module or package called `numpy` (`np` for short). This package is not built into standard Python. A package is a library of functions for a specific set of tasks. There are many Python packages and we will use several of them, for example the plotting one further below. We need to import numpy, and we will shorten its name to `np` using the command:"
   ]
  },
  {
   "cell_type": "code",
   "execution_count": null,
   "metadata": {},
   "outputs": [],
   "source": [
    "import numpy as np"
   ]
  },
  {
   "cell_type": "markdown",
   "metadata": {},
   "source": [
    "This gives us access to a whole range of new abilities, but we will focus on just the array one for now. Let's take a look at how to set up the above exercise using numpy arrays:"
   ]
  },
  {
   "cell_type": "code",
   "execution_count": null,
   "metadata": {},
   "outputs": [],
   "source": [
    "a = 1\n",
    "b = 1\n",
    "c = -6\n",
    "x = np.array([-2, 0, 2.1])\n",
    "print(x)"
   ]
  },
  {
   "cell_type": "markdown",
   "metadata": {},
   "source": [
    "In this example, we use `np.array` function to set `x` to all three values simultaneously. So, when we solve for `y`, we can use:"
   ]
  },
  {
   "cell_type": "code",
   "execution_count": null,
   "metadata": {},
   "outputs": [],
   "source": [
    "y = a * x**2 + b * x + c\n",
    "print (y)"
   ]
  },
  {
   "cell_type": "markdown",
   "metadata": {},
   "source": [
    "Which gives us all three answers. Using arrays instead of single numbers can really help speed things up, especially in this course when we'll need to deal with dozens, hundreds, or even thousands of numbers simultaneously.\n",
    "\n",
    "One common numpy function we will use a lot is the `np.linspace` function. For example, to set 21 equally spaced values for `x` between 0 and 10, we use:"
   ]
  },
  {
   "cell_type": "code",
   "execution_count": null,
   "metadata": {
    "scrolled": true
   },
   "outputs": [],
   "source": [
    "x = np.linspace(0,10,21)\n",
    "print (x)"
   ]
  },
  {
   "cell_type": "markdown",
   "metadata": {},
   "source": [
    "There are more functions that are available with numpy, and we'll get to these in due course."
   ]
  },
  {
   "cell_type": "markdown",
   "metadata": {},
   "source": [
    "### 1.6 Plotting\n",
    "Plotting is not part of standard Python, but a nice package exist to create pretty graphics (and ugly ones, if you want). The graphics package we use is called `matplotlib`. To be able to use the plotting functions in `matplotlib` we have to import it. We will learn several different ways of importing packages. For now, we import the plotting part of `matplotlib` and call it `plt`. Before we import `matplotlib`, we tell the Jupyter Notebook to show any graphs inside this Notebook and not in a separate window (more on these commands later). "
   ]
  },
  {
   "cell_type": "code",
   "execution_count": null,
   "metadata": {},
   "outputs": [],
   "source": [
    "%matplotlib inline\n",
    "import matplotlib.pyplot as plt"
   ]
  },
  {
   "cell_type": "markdown",
   "metadata": {},
   "source": [
    "Packages only have to be imported once in a Python session. After the above import statement, any plotting function may be called from any code cell as `plt.function`. For example"
   ]
  },
  {
   "cell_type": "code",
   "execution_count": null,
   "metadata": {},
   "outputs": [],
   "source": [
    "x = np.linspace(0,10,9)\n",
    "y = x**2 - x\n",
    "plt.plot(x, y)"
   ]
  },
  {
   "cell_type": "markdown",
   "metadata": {},
   "source": [
    "Let's try to plot $y$ vs $x$ for $x$ going from $-4$ to $+4$ for the polynomial\n",
    "$y=ax^2+bx+c$ with $a=1$, $b=1$, $c=-6$.\n",
    "To do that, we need to evaluate $y$ at a bunch of points. We'll use numpy to help set that up, but this time we can one of two numpy functions:"
   ]
  },
  {
   "cell_type": "markdown",
   "metadata": {},
   "source": [
    "To create an array `x` consisting of, for example, 5 equally spaced points between `-4` and `4`, use the `np.linspace` command"
   ]
  },
  {
   "cell_type": "code",
   "execution_count": null,
   "metadata": {},
   "outputs": [],
   "source": [
    "x = np.linspace(-4, 4, 5)\n",
    "print(x)"
   ]
  },
  {
   "cell_type": "markdown",
   "metadata": {},
   "source": [
    "In the above cell, `x` is an array of 5 floats (`-4.` is a float, `-4` is an integer).\n",
    "If you type `np.linspace` and then an opening parenthesis like:\n",
    "\n",
    "`np.linspace(` \n",
    "\n",
    "and then hit `Shift+Tab` and a little help box pops up to explain the input arguments of the function. When you click on the + sign, you can scroll through all the documentation of the `linspace` function. Click on the x sign to remove the help box. Let's plot $y$ using 100 values for $x$ ranging from \n",
    "$-4$ to $+4$."
   ]
  },
  {
   "cell_type": "code",
   "execution_count": null,
   "metadata": {},
   "outputs": [],
   "source": [
    "a = 1\n",
    "b = 1\n",
    "c = -6\n",
    "x = np.linspace(-4, 4, 100)\n",
    "y = a * x ** 2 + b * x + c  # Compute y for all x values\n",
    "plt.plot(x, y)"
   ]
  },
  {
   "cell_type": "markdown",
   "metadata": {},
   "source": [
    "Note that  *one hundred* `y` values are computed in the simple line `y = a * x ** 2 + b * x + c`. Python treats arrays in the same fashion as it treats regular variables when you perform mathematical operations. The math is simply applied to every value in the array (and it runs much faster than when you would do every calculation separately). \n",
    "\n",
    "You may wonder what the statement `[<matplotlib.lines.Line2D at 0x30990b0>]` is (the numbers on your machine may look different). This is actually a handle to the line that is created with the last command in the code block (in this case `plt.plot(x, y)`). Remember: the result of the last line in a code cell is printed to the screen, unless it is stored in a variable. You can tell the Notebook not to print this to the screen by putting a semicolon after the last command in the code block (so type `plot(x, y);`). We will learn later on that it may also be useful to store this handle in a variable."
   ]
  },
  {
   "cell_type": "markdown",
   "metadata": {},
   "source": [
    "The `plot` function can take many arguments. Looking at the help box of the `plot` function, by typing `plt.plot(` and then shift-tab, gives you a lot of help. Typing `plt.plot?` gives a new scrollable subwindow at the bottom of the notebook, showing the documentation on `plot`. Click the x in the upper right hand corner to close the subwindow again."
   ]
  },
  {
   "cell_type": "markdown",
   "metadata": {},
   "source": [
    "In short, `plot` can be used with one argument as `plot(y)`, which plots `y` values along the vertical axis and enumerates the horizontal axis starting at 0. `plot(x, y)` plots `y` vs `x`, and `plot(x, y, formatstring)` plots `y` vs `x` using colors and markers defined in `formatstring`, which can be a lot of things. It can be used to define the color, for example `'b'` for blue, `'r'` for red, and `'g'` for green. Or it can be used to define the linetype `'-'` for line, `'--'` for dashed, `':'` for dots. Or you can define markers, for example `'o'` for circles and `'s'` for squares. You can even combine them: `'r--'` gives a red dashed line, while `'go'` gives green circular markers. "
   ]
  },
  {
   "cell_type": "markdown",
   "metadata": {},
   "source": [
    "If that isn't enough, `plot` takes a large number of keyword arguments. A keyword argument is an optional argument that may be added to a function. The syntax is `function(keyword1=value1, keyword2=value2)`, etc. For example, to plot a line with width 6 (the default is 1), type"
   ]
  },
  {
   "cell_type": "code",
   "execution_count": null,
   "metadata": {
    "scrolled": true
   },
   "outputs": [],
   "source": [
    "plt.plot([1, 2, 3], [2, 4, 3], linewidth=6);"
   ]
  },
  {
   "cell_type": "markdown",
   "metadata": {},
   "source": [
    "Keyword arguments should come after regular arguments. `plot(linewidth=6, [1, 2, 3], [2, 4, 3])` gives an error."
   ]
  },
  {
   "cell_type": "markdown",
   "metadata": {},
   "source": [
    "Names may be added along the axes with the `xlabel` and `ylabel` functions, e.g., `plt.xlabel('this is the x-axis')`. Note that both functions take a string as argument. A title can be added to the figure with the `plt.title` command. Multiple curves can be added to the same figure by giving multiple plotting commands in the same code cell. They are automatically added to the same figure.\n",
    "\n",
    "Let's replot the second graph (above) that we made making sure that we use a green dotted line, a linewidth of 3 and with axis and graph title labels:"
   ]
  },
  {
   "cell_type": "code",
   "execution_count": null,
   "metadata": {
    "scrolled": true
   },
   "outputs": [],
   "source": [
    "a = 1\n",
    "b = 1\n",
    "c = -6\n",
    "x = np.linspace(-4, 4, 100)\n",
    "y = a * x ** 2 + b * x + c  # Compute y for all x values\n",
    "plt.plot(x, y, 'g:', linewidth=3)\n",
    "plt.xlabel('x-label (some units)')\n",
    "plt.ylabel('y-label (some units)')\n",
    "plt.title('Some Graph Title')"
   ]
  },
  {
   "cell_type": "markdown",
   "metadata": {},
   "source": [
    "### 1.7 New Figure and Figure Size\n",
    "\n",
    "Whenever you give a plotting statement in a code cell, a figure with a default size is automatically created, and all subsequent plotting statements in the code cell are added to the same figure. If you want a different size of the figure, you can create a figure first with the desired figure size using the `plt.figure(figsize=(width, height))` syntax. Any subsequent plotting statement in the code cell is then added to the figure. You can even create a second figure (or third or fourth...)."
   ]
  },
  {
   "cell_type": "code",
   "execution_count": null,
   "metadata": {
    "scrolled": true
   },
   "outputs": [],
   "source": [
    "plt.figure(figsize=(10, 3))\n",
    "plt.plot([1, 2, 3], [2, 4, 3], linewidth=6)\n",
    "plt.title('very wide figure')\n",
    "plt.figure()  # new figure of default size\n",
    "plt.plot([1, 2, 3], [1, 3, 1], 'r')\n",
    "plt.title('second figure');"
   ]
  },
  {
   "cell_type": "markdown",
   "metadata": {},
   "source": [
    "### <a name=\"ex1a\"></a> <span style=\"color:red\">Exercise 3: First Graph</span>\n",
    "\n",
    "Plot the graph of polynomial from Exercise 2 with **variables $a$, $b$, and $c$ that you were assigned** in the code cell below. Let $x$ range from $-5$ to $+5$ with 100 points. Use a dashed red line for your plot and give it a linewidth of 2. Add the title 'First Python figure of Name', where you enter your own name. Give the graph whatever $x$ and $y$ axis titles you wish (just don't leave them blank)."
   ]
  },
  {
   "cell_type": "code",
   "execution_count": null,
   "metadata": {},
   "outputs": [],
   "source": []
  },
  {
   "cell_type": "markdown",
   "metadata": {},
   "source": [
    "## 2 SymPy Introduction\n",
    "\n",
    "### 2.1 SymPy or Symbolic Python\n",
    "\n",
    "Oftentimes, we want to solve a problem \"symbolically\", i.e using symbols like $x$ and $y$, instead of solving these problems for specific values of $x$ and $y$. This let's us generalize the solution, meaning we can then plug in any value for $x$ or $y$ to get the answer for any situation. In those cases, we want to find *analytical* or *symbolic* solutions.\n",
    "\n",
    "The SymPy module in Python can help us with symbolic math. We need to:\n",
    "- import the SymPy module to get symbolic math capabilities.\n",
    "- allow sympy to print math equations in a nice-to-read format"
   ]
  },
  {
   "cell_type": "code",
   "execution_count": null,
   "metadata": {},
   "outputs": [],
   "source": [
    "import sympy\n",
    "sympy.init_printing()"
   ]
  },
  {
   "cell_type": "markdown",
   "metadata": {},
   "source": [
    "Whenever we're using sympy functionalities, we start with `sympy.something`, where `something` is the symbol functionality we're using.\n",
    "\n",
    "In order to do symbolic calculations, we need to create a symbol"
   ]
  },
  {
   "cell_type": "code",
   "execution_count": null,
   "metadata": {
    "scrolled": true
   },
   "outputs": [],
   "source": [
    "x = sympy.Symbol('x')\n",
    "x # note, we don't have to do `print(x)` to print the sympy symbol x"
   ]
  },
  {
   "cell_type": "markdown",
   "metadata": {},
   "source": [
    "Sympy allows us to do many mathematical operations that would be tedious by hand. For instance, we can expand a polynomial:"
   ]
  },
  {
   "cell_type": "code",
   "execution_count": null,
   "metadata": {
    "scrolled": true
   },
   "outputs": [],
   "source": [
    "polynomial = (2*x + 3)**4\n",
    "polynomial.expand()"
   ]
  },
  {
   "cell_type": "markdown",
   "metadata": {},
   "source": [
    "Some functions and symbols in sympy that are already defined include:\n",
    "\n",
    "- `sympy.exp` -- this is the exponential function\n",
    "- `sympy.sin` -- this is the sine function\n",
    "- `sympy.cos` -- this is the cosine function\n",
    "- `sympy.I` -- this is the complex numer $i$\n",
    "- `sympy.pi` -- this is the symbol for $\\pi$\n",
    "\n",
    "let's look at an example using the exponential function"
   ]
  },
  {
   "cell_type": "code",
   "execution_count": null,
   "metadata": {},
   "outputs": [],
   "source": [
    "b = sympy.Symbol('b') # I use want another variable `b` to use in my equations\n",
    "\n",
    "# let's define some random exponential function\n",
    "function = sympy.exp(2*x + b)\n",
    "function # this prints the function to the output below"
   ]
  },
  {
   "cell_type": "markdown",
   "metadata": {},
   "source": [
    "Let's now look at an example with the sine and cosine functions. Maybe we'll throw in some $i$ and $\\pi$ in there just to show you how complex you can make any function:"
   ]
  },
  {
   "cell_type": "code",
   "execution_count": null,
   "metadata": {},
   "outputs": [],
   "source": [
    "some_other_function = sympy.sin(x*sympy.pi+b) - sympy.cos(3*x*sympy.I - b)\n",
    "some_other_function"
   ]
  },
  {
   "cell_type": "markdown",
   "metadata": {},
   "source": [
    "### 2.2 Calculus\n",
    "\n",
    "Now for the magic: SymPy can do the calculus for you. Let's integrate and diffrentiate the functions we made above:"
   ]
  },
  {
   "cell_type": "code",
   "execution_count": null,
   "metadata": {},
   "outputs": [],
   "source": [
    "function.diff(x) # first diffrential of `function` wrt `x`"
   ]
  },
  {
   "cell_type": "code",
   "execution_count": null,
   "metadata": {},
   "outputs": [],
   "source": [
    "function.diff(x, 2) # second diffrential of `function` wrt `x`"
   ]
  },
  {
   "cell_type": "code",
   "execution_count": null,
   "metadata": {},
   "outputs": [],
   "source": [
    "function.integrate(x) # indefinite integral (note that the function does not add a constant of integration)"
   ]
  },
  {
   "cell_type": "code",
   "execution_count": null,
   "metadata": {
    "scrolled": true
   },
   "outputs": [],
   "source": [
    "# what if we wanted to integrade between the points x=1 and x=2?\n",
    "# well, that's easy too:\n",
    "function.integrate((x, 1, 2)) # note the parentheses"
   ]
  },
  {
   "cell_type": "markdown",
   "metadata": {},
   "source": [
    "### <a name=\"ex1a\"></a> <span style=\"color:red\">Exercise 4: Sympy Diffrentiation</span>\n",
    "\n",
    "Define some function $f$ as:\n",
    "\n",
    "$$ f(x) = \\frac{ \\exp{ x^2 }}{ \\sin{2 \\cdot \\pi \\cdot x }} $$\n",
    "\n",
    "and then find its first derivative (or $\\frac{df}{dx}$) in the code box below:"
   ]
  },
  {
   "cell_type": "code",
   "execution_count": null,
   "metadata": {},
   "outputs": [],
   "source": []
  },
  {
   "cell_type": "markdown",
   "metadata": {},
   "source": [
    "### 1.3 Solving Equations\n",
    "\n",
    "We can also solve equations using sympy. We need to first define an equation (which is basically two functions separated by an equal sign). Let's make an equation like:\n",
    "\n",
    "$$ 2x^2 = 2$$\n",
    "\n",
    "and then solve for $x$.\n",
    "- We will use `sympy.Eq` to make the equation, where the two sides of the equal sign are separated by a comma `,`.\n",
    "- We will then solve this equation using `sympy.solve`"
   ]
  },
  {
   "cell_type": "code",
   "execution_count": null,
   "metadata": {
    "scrolled": true
   },
   "outputs": [],
   "source": [
    "equation = sympy.Eq(2*x**2, 2)\n",
    "sympy.solve(equation)"
   ]
  },
  {
   "cell_type": "markdown",
   "metadata": {},
   "source": [
    "Let's make functions of even more variables. First, let's make $x(t)$ a function (not just a variable) of time $t$. This function $x(t)$ will tell us the position $x$ of a particle at some time $t$. In case you're wondering where I'm going with this, I'm going to code in the Hooke's-law harmonic oscillator from page 263 of your textbook."
   ]
  },
  {
   "cell_type": "code",
   "execution_count": null,
   "metadata": {},
   "outputs": [],
   "source": [
    "t = sympy.Symbol('t') # first, let's make `t` a variable\n",
    "x = sympy.Function('x')(t) # this says that the function `x` has variable `t`\n",
    "x"
   ]
  },
  {
   "cell_type": "markdown",
   "metadata": {},
   "source": [
    "We now need to write functions for the velocity and accelaration:\n",
    "\n",
    "$$ \\text{velocity} = \\frac{dx}{dt}$$\n",
    "\n",
    "$$\\text{accelaration} = \\frac{d^2x}{dt^2}$$\n",
    "\n",
    "As expected, we use the `sympy.Derivative` function to get the derivative of functions:"
   ]
  },
  {
   "cell_type": "code",
   "execution_count": null,
   "metadata": {},
   "outputs": [],
   "source": [
    "velocity = sympy.Derivative(x, t) # derivative of function `x` wrt variable `t`\n",
    "velocity"
   ]
  },
  {
   "cell_type": "code",
   "execution_count": null,
   "metadata": {},
   "outputs": [],
   "source": [
    "# we can get the accelaration in two ways:\n",
    "# (1) we can find the first derivative of the velocity wrt time\n",
    "accelaration = sympy.Derivative(velocity, t)\n",
    "accelaration"
   ]
  },
  {
   "cell_type": "code",
   "execution_count": null,
   "metadata": {
    "scrolled": false
   },
   "outputs": [],
   "source": [
    "# (2) we can find the second derivative of the position `x` wrt time\n",
    "accelaration = sympy.Derivative(x, t, 2)\n",
    "accelaration"
   ]
  },
  {
   "cell_type": "markdown",
   "metadata": {},
   "source": [
    "Let's new create a mass variable $m$ and a force constant variable $k$ in order to write the second-order differential equation on page 263:\n",
    "\n",
    "$$ m \\frac{d^2x}{dt^2} + kx = 0$$"
   ]
  },
  {
   "cell_type": "code",
   "execution_count": null,
   "metadata": {},
   "outputs": [],
   "source": [
    "m = sympy.Symbol('m')\n",
    "k = sympy.Symbol('k')\n",
    "\n",
    "equation = sympy.Eq(m * accelaration + k*x, 0)\n",
    "equation"
   ]
  },
  {
   "cell_type": "markdown",
   "metadata": {},
   "source": [
    "Now we solve this differential equation. Remember all that time in calculus that they forced you to solve differential equations? No? Doesn't matter, the code does it for you automatically. We just need to use the `sympy.pde.pdsolve` method from sympy, and remember that we're solving for $x(t)$."
   ]
  },
  {
   "cell_type": "code",
   "execution_count": null,
   "metadata": {},
   "outputs": [],
   "source": [
    "solution = sympy.ode.dsolve(equation, x)\n",
    "solution"
   ]
  },
  {
   "cell_type": "markdown",
   "metadata": {},
   "source": [
    "The above answer is the same as the answer in the book:\n",
    "\n",
    "$$x(t) = A \\sin( \\omega t ) + B \\cos( \\omega t )$$\n",
    "\n",
    "It's just written in exponentials (which is easier to work with when we're doing calculus). To prove this, let's make the same assumptions as the book. We're going to set:\n",
    "\n",
    "$$ \\sqrt{-\\frac{k}{m}} = i\\omega $$\n",
    "\n",
    "Prove to yourself that this is the same as making this substitution:\n",
    "\n",
    "$$ \\omega = \\left( \\frac{k}{m} \\right)^{\\frac{1}{2}} $$\n"
   ]
  },
  {
   "cell_type": "code",
   "execution_count": null,
   "metadata": {},
   "outputs": [],
   "source": [
    "C1 = sympy.Symbol('C_1') # a variable for C1\n",
    "C2 = sympy.Symbol('C_2') # a variable for C2\n",
    "w = sympy.Symbol('omega') # a variable for omega\n",
    "substituted_function = C1 * sympy.exp(-t * sympy.I * w) + C2 * sympy.exp(t * sympy.I * w)\n",
    "substituted_function"
   ]
  },
  {
   "cell_type": "markdown",
   "metadata": {},
   "source": [
    "Now let's turn this in to a trig function so that it resembles the one in the book:"
   ]
  },
  {
   "cell_type": "code",
   "execution_count": null,
   "metadata": {},
   "outputs": [],
   "source": [
    "substituted_function.rewrite(sympy.cos).trigsimp() # this is complicated, just ignore it for now"
   ]
  },
  {
   "cell_type": "markdown",
   "metadata": {},
   "source": [
    "The answer turns the function into trig functions, but the code gives doesn't want to simplify it further. However, you can hopefully start to see how this all comes together. The solution in your book is can be found if you set:\n",
    "\n",
    "$$ B = C_1 + C_2 $$\n",
    "\n",
    "and \n",
    "\n",
    "$$ A = iC_2 - iC_1 $$\n",
    "\n",
    "Try doing that simplification for yourself."
   ]
  },
  {
   "cell_type": "markdown",
   "metadata": {},
   "source": [
    "### <a name=\"ex1a\"></a> <span style=\"color:red\">Exercise 5: Solution for Gravity</span>\n",
    "\n",
    "Let's try making and solving the partial differential equation for gravity. You need to set the position function $x(t)$ like we did earlier.\n",
    "\n",
    "For gravity, the force $F = ma = -g$, so the partial differential equation you're looking at should be:\n",
    "\n",
    "$$ m \\frac{d^2x}{dt^2} + g = 0$$\n",
    "\n",
    "solve for $x(t)$ in the code cell below.\n",
    "\n",
    "HINT: when you get the solution, let's say you put it in a variable `solution`, use `solution.simplify()` to make it more readable."
   ]
  },
  {
   "cell_type": "code",
   "execution_count": null,
   "metadata": {},
   "outputs": [],
   "source": []
  },
  {
   "cell_type": "markdown",
   "metadata": {},
   "source": [
    "## 3 Classical Mechanics\n",
    "### 3.1 Harmonic Osillator\n",
    "On page 263 of our textbook---and hopefully in the example above, if it all went correctly---we learned that the general solution to the differential equation for the position of a simple one-dimensional Hooke's-law harmonic osciallor is:\n",
    "\n",
    "$$x(t) = A \\sin( \\omega t ) + B \\cos( \\omega t )$$\n",
    "\n",
    "where $x(t)$ is the position of the particle at some time $t$, $A$ and $B$ are some constants, $\\omega = \\left( \\frac{k}{m} \\right)^{\\frac{1}{2}}$, $k$ is the force constant of the spring, and $m$ is the mass of the particle.\n",
    "\n",
    "Let's code this function to see how the spring changes from time $t=0$ to time $t=10$. I'm using random values for $A$, $B$, $m$, and $k$. If you run the code, you will see that the position moves back and forth as time progresses --- exactly what you expect from a spring."
   ]
  },
  {
   "cell_type": "code",
   "execution_count": null,
   "metadata": {
    "scrolled": true
   },
   "outputs": [],
   "source": [
    "t = np.linspace(0,10,100) # setting the time range\n",
    "A = 2.0\n",
    "B = 2.0\n",
    "m = 1.5\n",
    "k = 2.0\n",
    "# let's set omega (or w) based on the values of k and m\n",
    "w = ( k / m )**(0.5)\n",
    "# note that I use '**' for 'power'\n",
    "\n",
    "# now for the position equation:\n",
    "x = A * np.sin(w * t) + B * np.cos(w * t)\n",
    "\n",
    "# now let's plot this!\n",
    "# We want the position (or x) on the y-axis --- this seems confusing, I know\n",
    "# We want time (or t) on the x-axis\n",
    "\n",
    "plt.plot(t, x, 'b-', linewidth=2)\n",
    "plt.xlabel('time')\n",
    "plt.ylabel('position')\n",
    "plt.title('Position vs Time for a Harmonic Oscillator')"
   ]
  },
  {
   "cell_type": "markdown",
   "metadata": {},
   "source": [
    "In classical mechanics, we can always (even if it's very difficult and it may not be a nice equation that you can write down) with some way to exactly track a particle at any time. As we'll learn later, this is not the case with quantum particles."
   ]
  },
  {
   "cell_type": "markdown",
   "metadata": {},
   "source": [
    "### <a name=\"ex1a\"></a> <span style=\"color:red\">Exercise 6: Harmonic Oscillator</span>\n",
    "\n",
    "In Hooke's law, $k$ is a measure of the stiffness of the spring and $m$ is the mass of the object attached to the spring. How do you think these two properties change how fast the spring moves back-and-forth? Does the spring move faster or slower with a heavier/lighter mass? Would the spring move faster or slower with a stiffer/looser force constant $k$? In the code cell below, change *only* the force constant $k$ and the mass $m$ in order to match your spring (in red dots) to my spring (blue line). You can use any value, no matter how large or small, for $k$ and $m$."
   ]
  },
  {
   "cell_type": "code",
   "execution_count": null,
   "metadata": {},
   "outputs": [],
   "source": [
    "# let's first plot my spring\n",
    "t = np.linspace(0,10,100)\n",
    "x_myspring = 2.0 * np.sin(np.pi * t) + 2.0 * np.cos(np.pi * t)\n",
    "plt.plot(t, x_myspring, 'b-', linewidth=2)\n",
    "\n",
    "# now let's set up your spring\n",
    "A = 2.0\n",
    "B = 2.0\n",
    "m = 1.5\n",
    "k = 2.0\n",
    "# let's set omega (or w) based on the values of k and m\n",
    "w = ( k / m )**(0.5)\n",
    "# note that I use '**' for 'power'\n",
    "\n",
    "# now for the position equation:\n",
    "x = A * np.sin(w * t) + B * np.cos(w * t)\n",
    "\n",
    "# now let's plot this!\n",
    "# We want the position (or x) on the y-axis --- this seems confusing, I know\n",
    "# We want time (or t) on the x-axis\n",
    "\n",
    "plt.plot(t, x, 'r:', linewidth=2)\n",
    "plt.xlabel('time')\n",
    "plt.ylabel('position')\n",
    "plt.title('Position vs Time for a Harmonic Oscillator')"
   ]
  },
  {
   "cell_type": "markdown",
   "metadata": {},
   "source": [
    "### 2.2 Blackbody Radiation\n",
    "Let's try to pretend where scientists in the 1800s trying to figure out the blackbody radiation problem. We know that the power $P$ of light emitted is related to the temperature $T$ using the equation:\n",
    "\n",
    "$$P = \\sigma \\cdot T^4$$\n",
    "\n",
    "For now, we don't care what $\\sigma$ is... it's just some constant which will get replaced by other constants later.\n",
    "\n",
    "We also know that the wavelength of maximum intensity $\\lambda$ occurs at:\n",
    "\n",
    "$$ \\lambda \\cdot T = c_1$$\n",
    "\n",
    "Again, $c_1$ is some constant that will get replaced later. Let's rewrite this last equation to solve for $T$:\n",
    "\n",
    "$$T = \\frac{c_1}{\\lambda}$$\n",
    "\n",
    "Now plug in this equation for $T$ in the equation for power $P$ above:\n",
    "\n",
    "$$ P = \\sigma \\cdot \\frac{c_1^4}{\\lambda^4} $$\n",
    "\n",
    "It's time to combine all those pesky constants into a new constant, let's call it $c_2$:\n",
    "\n",
    "$$ P = \\frac{c_2}{\\lambda^4} $$\n",
    "\n",
    "This resembes the Rayleigh-Jeans equation from your textbook (see pg 273, equation 9.20). As a fun exercise, try to figure out what the constant $c_2$ would be equal to using the equation from your textbook.\n",
    "\n",
    "Let's plot this equation using `l` for $\\lambda$ (going between 1 and 5) and setting the constant $c_2 = 1.0$.\n",
    "\n",
    "In this equation, I added the `label='Rayleigh-Jeans equation'` option when I used `plt.plot` and I also use the code `plt.legend()` so that I can plot the label in the equation. This will come in handy later when we want to keep track of multiple plots in the same graph."
   ]
  },
  {
   "cell_type": "code",
   "execution_count": null,
   "metadata": {},
   "outputs": [],
   "source": [
    "l = np.linspace(0.5,3,100)\n",
    "c2 = 1.0\n",
    "P = c2 / l**4\n",
    "plt.plot(l, P, linewidth=2, label='Rayleigh-Jeans equation')\n",
    "plt.legend()\n",
    "plt.xlabel('Wavelength')\n",
    "plt.ylabel('Power/Intensity')\n",
    "plt.title('Power vs intensity')"
   ]
  },
  {
   "cell_type": "markdown",
   "metadata": {},
   "source": [
    "This curve explodes to infinity (the ultraviolet catastrophe) as the wavelength gets small. But what if we could fiddle with the equation? What if we could add some term to force the curve to come back down to zero when l=0? Well, let's look at an inverse exponential called $x$. (I'm pulling this directly from a modified Planck's law):\n",
    "\n",
    "$$ x = \\frac{1}{\\lambda} \\cdot \\frac{1}{e^\\frac{c_3}{\\lambda} - 1} $$\n",
    "\n",
    "And let's set this new constant $c_3 = 1.0$ and plot this new exponential curve $x$. For good measure, let's also plot the Rayleigh-Jeans equation, too."
   ]
  },
  {
   "cell_type": "code",
   "execution_count": null,
   "metadata": {},
   "outputs": [],
   "source": [
    "# plot the Rayleigh-Jeans equation again\n",
    "plt.plot(l, P, linewidth=2, label='Rayleigh-Jeans equation')\n",
    "\n",
    "# set up and plot the new exponential\n",
    "c3 = 4.0\n",
    "x = (1.0 / l) * (1.0 / (np.exp(c3 / l) - 1))\n",
    "plt.plot(l, x, 'r-', label='Some random exponential')\n",
    "plt.legend()\n",
    "plt.xlabel('Wavelength')\n",
    "plt.ylabel('Intensity')\n",
    "plt.title('Power vs intensity')"
   ]
  },
  {
   "cell_type": "markdown",
   "metadata": {},
   "source": [
    "What happends when we multiply these two curves together? To make it visible, I'm going to also multiply it by 500.\n",
    "\n",
    "$$ P_\\text{new} = P_\\text{old} \\cdot x \\cdot 500 $$\n",
    "\n",
    "If we expand out $P_\\text{old}$ and $x$, we find that $P_\\text{new}$ is:\n",
    "\n",
    "$$ P_\\text{new} = \\frac{c_2}{\\lambda^4} \\cdot \\frac{1}{\\lambda} \\cdot \\frac{1}{e^\\frac{c_3}{\\lambda} - 1} $$\n",
    "\n",
    "Simplified:\n",
    "\n",
    "$$ P_\\text{new} = \\frac{c_2}{\\lambda^5} \\cdot \\frac{1}{e^\\frac{c_3}{\\lambda} - 1} $$\n",
    "\n",
    "This looks exactly like Planck's equation, except we just have two constants $c_2$ and $c_3$ to play with. The plot for this is included below; note how it starts to look like the blackbody radiation curve."
   ]
  },
  {
   "cell_type": "code",
   "execution_count": null,
   "metadata": {
    "scrolled": true
   },
   "outputs": [],
   "source": [
    "# plot the Rayleigh-Jeans equation again\n",
    "plt.plot(l, P, linewidth=2, label='Rayleigh-Jeans equation')\n",
    "\n",
    "# plot the new cuve x\n",
    "plt.plot(l, x, 'r-', linewidth=2, label='Some random exponential')\n",
    "\n",
    "# plot the two curves multiplied by each other\n",
    "P_new = P * x * 500\n",
    "plt.plot(l, P_new, 'm-', linewidth=2, label='$P_{new}$ --- Curves multiplied by each other')\n",
    "\n",
    "plt.legend()\n",
    "plt.xlabel('Wavelength')\n",
    "plt.ylabel('Intensity')\n",
    "plt.title('Power vs intensity')"
   ]
  },
  {
   "cell_type": "markdown",
   "metadata": {},
   "source": [
    "Play around with the value of the constants $c_2$ and $c_3$ in the code cells above to see how it affects the curve.\n",
    "\n",
    "Remember that the variable $c_3$ includes the temperature inside of it; see if it changes the graph the way you expected it to (at least, according to the way the book says the graph should change with temperature).\n",
    "\n",
    "Remember also that when you change a value, e.g. of `c3` that is two code cells above, you need to run (with `Shift+Enter`) the code cell that you changed followed by all the other code cells that will be affected in decending order."
   ]
  },
  {
   "cell_type": "markdown",
   "metadata": {},
   "source": [
    "## 4. Submit your work\n",
    "\n",
    "When you're done with this Jupyter notebook, click `File` then `Print Preview` to see a printable copy (DONT PRINT IT). Then press `Ctrl+P` to bring up the print dialog box and **save the notebook as a PDF** to submit.\n",
    "\n",
    "> I spent quite a while coding this, and I had more examples that I wanted to include. But this notebook is already longer than I imaged. If you'd like, you can play around with the values and graphs after you save the PDF copy to see how this all works."
   ]
  }
 ],
 "metadata": {
  "anaconda-cloud": {},
  "kernelspec": {
   "display_name": "Python 3",
   "language": "python",
   "name": "python3"
  },
  "language_info": {
   "codemirror_mode": {
    "name": "ipython",
    "version": 3
   },
   "file_extension": ".py",
   "mimetype": "text/x-python",
   "name": "python",
   "nbconvert_exporter": "python",
   "pygments_lexer": "ipython3",
   "version": "3.6.9"
  },
  "varInspector": {
   "cols": {
    "lenName": 16,
    "lenType": 16,
    "lenVar": 40
   },
   "kernels_config": {
    "python": {
     "delete_cmd_postfix": "",
     "delete_cmd_prefix": "del ",
     "library": "var_list.py",
     "varRefreshCmd": "print(var_dic_list())"
    },
    "r": {
     "delete_cmd_postfix": ") ",
     "delete_cmd_prefix": "rm(",
     "library": "var_list.r",
     "varRefreshCmd": "cat(var_dic_list()) "
    }
   },
   "types_to_exclude": [
    "module",
    "function",
    "builtin_function_or_method",
    "instance",
    "_Feature"
   ],
   "window_display": false
  },
  "widgets": {
   "state": {},
   "version": "1.1.2"
  }
 },
 "nbformat": 4,
 "nbformat_minor": 1
}
