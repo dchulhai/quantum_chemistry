{
  "nbformat": 4,
  "nbformat_minor": 0,
  "metadata": {
    "anaconda-cloud": {},
    "kernelspec": {
      "display_name": "Python 3",
      "language": "python",
      "name": "python3"
    },
    "language_info": {
      "codemirror_mode": {
        "name": "ipython",
        "version": 3
      },
      "file_extension": ".py",
      "mimetype": "text/x-python",
      "name": "python",
      "nbconvert_exporter": "python",
      "pygments_lexer": "ipython3",
      "version": "3.6.9"
    },
    "varInspector": {
      "cols": {
        "lenName": 16,
        "lenType": 16,
        "lenVar": 40
      },
      "kernels_config": {
        "python": {
          "delete_cmd_postfix": "",
          "delete_cmd_prefix": "del ",
          "library": "var_list.py",
          "varRefreshCmd": "print(var_dic_list())"
        },
        "r": {
          "delete_cmd_postfix": ") ",
          "delete_cmd_prefix": "rm(",
          "library": "var_list.r",
          "varRefreshCmd": "cat(var_dic_list()) "
        }
      },
      "types_to_exclude": [
        "module",
        "function",
        "builtin_function_or_method",
        "instance",
        "_Feature"
      ],
      "window_display": false
    },
    "colab": {
      "name": "Introduction to Wave Functions.ipynb",
      "provenance": [],
      "collapsed_sections": []
    }
  },
  "cells": [
    {
      "cell_type": "markdown",
      "metadata": {
        "id": "v0FiHgPgrgOT"
      },
      "source": [
        "<figure>\n",
        "  <IMG SRC=\"https://upload.wikimedia.org/wikipedia/en/8/84/University_of_Indianapolis_Official_Seal.png\" WIDTH=120 ALIGN=\"right\">\n",
        "</figure>\n",
        "\n",
        "# Introduction to Wave Functions\n",
        "*(c) Dhabih Chulhai, University of Indianapolis*\n",
        "    \n"
      ]
    },
    {
      "cell_type": "markdown",
      "metadata": {
        "id": "wFVSv-Q7rgOX"
      },
      "source": [
        "> ### <font color=\"green\">INFORMATION</font>\n",
        "> \n",
        "> There are 6 exercises below, labeled in **<font color=\"red\">red</font>**, that will be graded for credit.\n",
        ">\n",
        "> You can work with each other on these, but you must each submit your *individual* work using the values I assign to you. The internet is also a very useful source of information. There are numerous resources and tutorials online that go into a lot more detail about each of the things I show you here.\n",
        ">\n",
        "> This is the first time I'm trying something like this in a class, so if you find typos or unclear instructions, please let me know."
      ]
    },
    {
      "cell_type": "markdown",
      "metadata": {
        "id": "pJqOLlCkrgOX"
      },
      "source": [
        "## 1. The Wave Function\n",
        "### 1.1 Let's refresh your memory on how to plot things\n",
        "Below, we will set up a simple sine wave function and plot it."
      ]
    },
    {
      "cell_type": "code",
      "metadata": {
        "scrolled": true,
        "id": "9CFlUs4ErgOX"
      },
      "source": [
        "# let's set up the variables first:\n",
        "A = 1\n",
        "B = 1\n",
        "C = 1\n",
        "D = 1\n",
        "\n",
        "# let's set up our x-axis, let it run between 0 and 10 (with 100 points)\n",
        "# we need to use `linspace` from numpy, so we have to import numpy first\n",
        "import numpy as np\n",
        "x = np.linspace(0,10,100)\n",
        "\n",
        "# now build the sine function, we need to use the sine\n",
        "y = A * np.sin(B * x + C) + D\n",
        "\n",
        "# now we plot!\n",
        "# we need to first import matplotlib and pyplot to do this\n",
        "%matplotlib inline\n",
        "import matplotlib.pyplot as plt\n",
        "\n",
        "# now the actual plotting\n",
        "plt.plot(x, y)"
      ],
      "execution_count": null,
      "outputs": []
    },
    {
      "cell_type": "markdown",
      "metadata": {
        "id": "elavMjbf3m7A"
      },
      "source": [
        "Notice the values on the `x` and `y` axes. You can play around with the values of A, B, C, and D above to see how they change the wave function."
      ]
    },
    {
      "cell_type": "markdown",
      "metadata": {
        "id": "IfxY-CLWrgOZ"
      },
      "source": [
        "### <font color=\"red\">Exercise 1: Plot your sine wave function</font>\n",
        "Use the values of A, B, C, and D you were assigned to plot your wave function in the code cell below. *Note that numpy and pyplot are already imported (above) so you don't need to import them again.*"
      ]
    },
    {
      "cell_type": "code",
      "metadata": {
        "id": "zytNCnNjrgOa"
      },
      "source": [
        ""
      ],
      "execution_count": null,
      "outputs": []
    },
    {
      "cell_type": "markdown",
      "metadata": {
        "id": "O7sucX6i4dBo"
      },
      "source": [
        "### <font color=\"red\">Exercise 2: Verifying wave functions</font>\n",
        "\n",
        "Let's work on exercise 10.1 in the textbook (page 292). What we will do is plot each of the functions and then state whether they are acceptable wave functions.\n",
        "\n",
        "I will do the first function (10.1a) in the code cell below as an example. The function I'll plot is:\n",
        "$$f(x) = x^2 + 1$$\n",
        "\n",
        "You'll notice that I wrote\n",
        "> `# this is NOT an acceptable wave function`\n",
        "\n",
        "after my code below. I basically ran my code, saw that the function will go to infinity if I increase the values of `x`, and so figured that this wave function is not \"bounded\". If the wave function you try is acceptable, you should type:\n",
        "> `# this IS an acceptable wave function`\n",
        "\n",
        "I left empty code cells for you to do 10.1b, 10.1c, 10.1d, and 10.1e."
      ]
    },
    {
      "cell_type": "code",
      "metadata": {
        "id": "Ja6FlPew7iuq"
      },
      "source": [
        "# this is for 10.1a.\n",
        "# the question says that x can have any value...\n",
        "# so I'll make x go from -100 to +100\n",
        "# make sure you follow the value of x for your function\n",
        "x = np.linspace(-100,100,100)\n",
        "f = x**2 + 1\n",
        "\n",
        "# now I plot it\n",
        "plt.plot(x, f)\n",
        "\n",
        "# This is NOT an acceptable wave function"
      ],
      "execution_count": null,
      "outputs": []
    },
    {
      "cell_type": "code",
      "metadata": {
        "id": "4jXdzanU8kZg"
      },
      "source": [
        "# do 10.1b in this code cell\n",
        "# you can get the square root using np.sqrt(x)\n",
        "# make sure you pay attention to the values x can have\n",
        "\n"
      ],
      "execution_count": null,
      "outputs": []
    },
    {
      "cell_type": "code",
      "metadata": {
        "id": "rhmihc6-8nMQ"
      },
      "source": [
        "# do 10.1c in this code cell\n",
        "# you can get the sine function using np.sin(x/2)\n",
        "# you can also get pi from np.pi\n",
        "# to set up x from -pi/2 to +pi/2 you can use something like:\n",
        "# x = np.linspace(-np.pi/2, np.pi/2, 100)\n",
        "\n"
      ],
      "execution_count": null,
      "outputs": []
    },
    {
      "cell_type": "code",
      "metadata": {
        "id": "G4ZuIGNd85rn"
      },
      "source": [
        "# do 10.1d in this code cell\n",
        "\n"
      ],
      "execution_count": null,
      "outputs": []
    },
    {
      "cell_type": "code",
      "metadata": {
        "id": "XDBsB9GG8_5v"
      },
      "source": [
        "# do 10.1e in this code cell\n",
        "\n"
      ],
      "execution_count": null,
      "outputs": []
    },
    {
      "cell_type": "markdown",
      "metadata": {
        "id": "JyoOVf_O9LtH"
      },
      "source": [
        "In the Exercise 2 above, I want you to pay attention to what the equations look like when they're plotted. I just want you to get a feel for what graphs might look like just by looking at the equation."
      ]
    },
    {
      "cell_type": "markdown",
      "metadata": {
        "id": "VTCFoVqh9kZx"
      },
      "source": [
        "## 2. Observables and Operators\n",
        "\n",
        "We learned how to use SymPy to do symbolic calculations (symbolic meaning using symbols like `x`, `a`, etc, instead of actual numbers). Let's use SymPy again to perform operations on functions.\n",
        "\n",
        "In the code cell below, I will do Example 10.3a (page 295) from the textbook. I will first import SymPy, then set up the function\n",
        "\n",
        "$$\\cos{\\frac{x}{4}}$$\n",
        "\n",
        "then perform the operation\n",
        "\n",
        "$$\\frac{d^2}{dx^2} \\cos{\\frac{x}{4}}$$\n",
        "\n",
        "where $\\frac{d^2}{dx^2}$ is the second diffrential, which is my operator."
      ]
    },
    {
      "cell_type": "code",
      "metadata": {
        "id": "fAxeEvCZD4Na"
      },
      "source": [
        "# let's import SymPy like we did before\n",
        "# note that this only needs to be done once in the entire notebook\n",
        "# this time, I'm going to shorten sympy as sp to make the code easier to write\n",
        "import sympy as sp\n",
        "sp.init_printing()\n",
        "\n",
        "# now let's set up x as a symbol\n",
        "x = sp.Symbol('x')\n",
        "\n",
        "# now let's set up our cosine function\n",
        "# I'll call the function f\n",
        "f = sp.cos(x/4)\n",
        "\n",
        "# okay, now let's take the second derivative:\n",
        "f.diff(x, 2) # the 2 here means the 2nd derivative\n",
        "\n",
        "# the output answer below should match exactly what's in the textbook"
      ],
      "execution_count": null,
      "outputs": []
    },
    {
      "cell_type": "markdown",
      "metadata": {
        "id": "0jLtW9jiFSdR"
      },
      "source": [
        "### <font color=\"red\">Exercise 3: Eigenfunctions and Eigenvalues using SymPy</font>\n",
        "\n",
        "Set up the function with SymPy (like above) for the problem you were assigned from end of chapter exercise number 10.10 (page 327). Then use the appropriate diffrential to find:\n",
        "- (i) whether your assigned expression yields an eigenvalue equation; and\n",
        "- (ii) if you have an eigenvalue equation, what is the eigenvalue?\n",
        "\n",
        "Include your answers to (i) and (ii) using comments like we did with Exercise 2.\n",
        "\n",
        "HINTS:\n",
        "- You can get a symbol for pi with sympy using `sp.pi`\n",
        "- The sympy sine function is `sp.sin`\n",
        "- The sympy exponential function is `sp.exp`[link text](https://)\n"
      ]
    },
    {
      "cell_type": "code",
      "metadata": {
        "id": "rrvmxVhaHE0f"
      },
      "source": [
        "# Answer Exercise 3 in this code cell\n",
        "# note that you do not need to import sympy again\n",
        "\n"
      ],
      "execution_count": null,
      "outputs": []
    },
    {
      "cell_type": "markdown",
      "metadata": {
        "id": "7R4v0Mi8HnkH"
      },
      "source": [
        "## 3. The Uncertainty Principle\n",
        "\n",
        "### 3.1 Plotting momentum wave functions\n",
        "\n",
        "In the uncertainty principle, I mentioned that the only way to get a \"position wave function\" was to add up many \"momentum wave functions\". In case you didn't believe me, let's do exactly that.\n",
        "\n",
        "A momentum wave function is a complex exponential wave function:\n",
        "$$ y = e^{-ikx}$$\n",
        "Where $k$ can be any value, like 1, 2, 3, etc (we'll only use integers). **The value of $k$ is actually the momentum!**\n",
        "\n",
        "> N.B. Since this is a complex function, it will have a real part and and imaginary part. When we plot things below, I will only plot the real part.\n",
        "\n",
        "> N.B. In python, the imaginary number $i$ is actually written using `1j`. Why? I don't know.\n",
        "\n",
        "\n",
        "Let's plot two of these momentum wave functions together:\n"
      ]
    },
    {
      "cell_type": "code",
      "metadata": {
        "id": "4T6MJHAkI6zP"
      },
      "source": [
        "# set up x between -2 and +2\n",
        "x = np.linspace(-2, +2, 1000)\n",
        "\n",
        "# add the two wave functions together\n",
        "y = np.exp(- 1j * 1 * x) # this uses k = 1\n",
        "y += np.exp(- 1j * 2 * x) # this uses k = 2\n",
        "### Note the += symbol above, which means we add the result to whatever\n",
        "### y was from before\n",
        "\n",
        "# let's plot!\n",
        "plt.plot(x, y.real)\n",
        "\n",
        "# y.real means use only the real part of y\n",
        "# if you want to plot the imaginary part to see what that looks\n",
        "# like, you can use y.imag"
      ],
      "execution_count": null,
      "outputs": []
    },
    {
      "cell_type": "markdown",
      "metadata": {
        "id": "1nEt8SZ-LnhW"
      },
      "source": [
        "### <font color=\"red\">Exercise 4: Position Wave Function using SymPy</font>\n",
        "\n",
        "The whole idea behind the uncertainty principle is that you become more uncertain about your momentum (more values for $k$) if you want your position to become more certain (the peak becomes narrower).\n",
        "\n",
        "In the code cell below, add more and more momentum wave function and see what happens to your position wave function. I started it for you using $k=1$ and $k=2$. Add values of $k = 3, 4, \\ldots$ up to $10$.\n",
        "\n",
        "*Note that you should really run the code cell to re-plot the graph everytime you add a new value for $k$ to see how the graph changes. You should only have to copy and paste code and change numbers.*"
      ]
    },
    {
      "cell_type": "code",
      "metadata": {
        "id": "utQfre5hJaC5"
      },
      "source": [
        "x = np.linspace(-2, +2, 1000)\n",
        "y = np.exp(- 1j * 1 * x)\n",
        "y += np.exp(- 1j * 2 * x)\n",
        "\n",
        "\n",
        "# let's plot!\n",
        "plt.plot(x, y.real)"
      ],
      "execution_count": null,
      "outputs": []
    },
    {
      "cell_type": "markdown",
      "metadata": {
        "id": "4WRQaPh1YAHY"
      },
      "source": [
        "### 3.2 Using Loops\n",
        "\n",
        "In the above situation, you copied and pasted the same (or very similar) code multiple times. Loops are an easy way to do that."
      ]
    },
    {
      "cell_type": "code",
      "metadata": {
        "id": "iM3skCGHYVjI"
      },
      "source": [
        "x = np.linspace(-2, +2, 1000)\n",
        "y = np.exp(- 1j * 1 * x)\n",
        "for k in range(2, 11):\n",
        "    y += np.exp(- 1j * k * x)\n",
        "\n",
        "plt.plot(x, y.real)"
      ],
      "execution_count": null,
      "outputs": []
    },
    {
      "cell_type": "markdown",
      "metadata": {
        "id": "goKmgT7BYi2i"
      },
      "source": [
        "In the code above, the line:\n",
        "```\n",
        "for k in range(2, 11):\n",
        "```\n",
        "\n",
        "means set `k` to be 2, 3, ... up to 10 (1 less than 11). Note that the line (or lines) that you want repeated, which in this case is\n",
        "```\n",
        "    y += np.exp(- 1j * k * x)\n",
        "```\n",
        "means every time you go in the loop, use the new value for `k` in the equation. Note also that this line needs to be indented (I use 4 spaces or `tab` to indent).\n",
        "\n",
        "In the code above, try changing the end value of the loop from `11` to higher and higher numbers just to see what happends to the position wave function.\n"
      ]
    },
    {
      "cell_type": "markdown",
      "metadata": {
        "id": "Q2kEkiquO19z"
      },
      "source": [
        "## 4. Probabilities and Normalization\n",
        "\n",
        "### 4.1 Probabilities\n",
        "\n",
        "Finding the probability, $P$, uses the following equation\n",
        "\n",
        "$$ P = \\int_a^b \\Psi^*\\Psi d\\tau$$\n",
        "\n",
        "Some functions can be quite complicated to integrate, so let's use SymPy to **SymP**lify our life! $\\leftarrow$ pun for the win!\n",
        "\n",
        "In the example below, I will set up the wave function $\\Psi$ from end of chapter exercise 10.26 (page 328):\n",
        "\n",
        "$$ \\Psi = \\sqrt{\\frac{2}{a}} \\sin\\frac{\\pi x}{a}$$\n",
        "\n",
        "To make life simple, we'll just use $a=1$. I will then perform the integration for\n",
        "- (a) $x = 0$ to $x = 0.02$."
      ]
    },
    {
      "cell_type": "code",
      "metadata": {
        "id": "HDjTgPOGQKSE"
      },
      "source": [
        "# let's make sure that both x and a are symbols\n",
        "x = sp.Symbol('x')\n",
        "\n",
        "# let's make the wave function psi\n",
        "psi = sp.sqrt(2) * sp.sin(sp.pi * x)\n",
        "psi"
      ],
      "execution_count": null,
      "outputs": []
    },
    {
      "cell_type": "markdown",
      "metadata": {
        "id": "p8FxKbwOQbE0"
      },
      "source": [
        "If everything went according to plan, the wave function $\\Psi$ should be set up above using $a=1$.\n",
        "\n",
        "Time to integrate!"
      ]
    },
    {
      "cell_type": "code",
      "metadata": {
        "id": "Kh1jzaM2QhrO"
      },
      "source": [
        "# let's integrate using limits\n",
        "integral = psi.integrate((x, 0, 0.02))\n",
        "integral.evalf() # the .evalf() part means evaluate a number"
      ],
      "execution_count": null,
      "outputs": []
    },
    {
      "cell_type": "markdown",
      "metadata": {
        "id": "ckUjM0E1RWdc"
      },
      "source": [
        "### <font color=\"red\">Exercise 5: Probabilities</font>\n",
        "\n",
        "Using the examples above, evaluate the probabilities for the wave function:\n",
        "\n",
        "$$ \\Psi = \\sqrt{2} \\sin(2\\pi x) $$\n",
        "\n",
        "for each of the followign limits:\n",
        "- $x = 0$ to $x = 0.02$\n",
        "- $x = 0.49$ to $x = 0.51$\n",
        "- $x = 0.98$ to $x = 1$\n",
        "\n",
        "\n"
      ]
    },
    {
      "cell_type": "code",
      "metadata": {
        "id": "knmbPCx0UC_X"
      },
      "source": [
        "# Answer exercise 5 here\n",
        "\n"
      ],
      "execution_count": null,
      "outputs": []
    },
    {
      "cell_type": "markdown",
      "metadata": {
        "id": "Zfx0uUdtUe42"
      },
      "source": [
        "### 4.2 Normalization\n",
        "\n",
        "Normalization simply means that we need to ensure that the TOTAL probability is always 1. We do that by multiplying the wave function by some normalization consntant $N$.\n",
        "\n",
        "Once we find the total probability, we can find $N$ using\n",
        "\n",
        "$$ N = \\frac{1}{\\sqrt{ \\int \\Psi^*\\Psi d\\tau}} $$\n",
        "\n",
        "Let's look at an example of how to do this using end of chapter exercise 10.31a (page 328)."
      ]
    },
    {
      "cell_type": "code",
      "metadata": {
        "id": "1vhSyP8MU4CA"
      },
      "source": [
        "# let's set up our wave function psi\n",
        "x = sp.Symbol('x')\n",
        "psi = x**2\n",
        "\n",
        "# let's integrate in the limits of the wave function\n",
        "integral = psi.integrate((x, 0, 1))\n",
        "\n",
        "# now solve for N\n",
        "import numpy as np\n",
        "N = 1 / sp.sqrt(integral)\n",
        "N"
      ],
      "execution_count": null,
      "outputs": []
    },
    {
      "cell_type": "markdown",
      "metadata": {
        "id": "aNqoPXufWVx3"
      },
      "source": [
        "### <font color=\"red\">Exercise 6: Normalization</font>\n",
        "\n",
        "Pick any 1 question from 10.31b – 10.31e or 10.32a – 10.32e (end of chapter problems, page 328). Solve for the normalization constant $N$ that you would need to normalize the wave function that you picked."
      ]
    },
    {
      "cell_type": "code",
      "metadata": {
        "id": "v_RiFizNW1i4"
      },
      "source": [
        "# Answer exercise 6 in this code box\n",
        "\n"
      ],
      "execution_count": null,
      "outputs": []
    },
    {
      "cell_type": "markdown",
      "metadata": {
        "id": "gfm-NkadrgOj"
      },
      "source": [
        "## <font color=\"green\">Submit your work</font>\n",
        "\n",
        "When you're done with this Jupyter notebook, click `Share` then share it with me (`chulhaid@uindy.edu`) as a `commenter`.\n"
      ]
    }
  ]
}