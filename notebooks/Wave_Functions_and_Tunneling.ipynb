{
  "nbformat": 4,
  "nbformat_minor": 0,
  "metadata": {
    "anaconda-cloud": {},
    "kernelspec": {
      "display_name": "Python 3",
      "language": "python",
      "name": "python3"
    },
    "language_info": {
      "codemirror_mode": {
        "name": "ipython",
        "version": 3
      },
      "file_extension": ".py",
      "mimetype": "text/x-python",
      "name": "python",
      "nbconvert_exporter": "python",
      "pygments_lexer": "ipython3",
      "version": "3.6.9"
    },
    "varInspector": {
      "cols": {
        "lenName": 16,
        "lenType": 16,
        "lenVar": 40
      },
      "kernels_config": {
        "python": {
          "delete_cmd_postfix": "",
          "delete_cmd_prefix": "del ",
          "library": "var_list.py",
          "varRefreshCmd": "print(var_dic_list())"
        },
        "r": {
          "delete_cmd_postfix": ") ",
          "delete_cmd_prefix": "rm(",
          "library": "var_list.r",
          "varRefreshCmd": "cat(var_dic_list()) "
        }
      },
      "types_to_exclude": [
        "module",
        "function",
        "builtin_function_or_method",
        "instance",
        "_Feature"
      ],
      "window_display": false
    },
    "colab": {
      "name": "Wave Functions and Tunneling.ipynb",
      "provenance": [],
      "collapsed_sections": []
    }
  },
  "cells": [
    {
      "cell_type": "markdown",
      "metadata": {
        "id": "v0FiHgPgrgOT"
      },
      "source": [
        "<figure>\n",
        "  <IMG SRC=\"https://upload.wikimedia.org/wikipedia/en/8/84/University_of_Indianapolis_Official_Seal.png\" WIDTH=120 ALIGN=\"right\">\n",
        "</figure>\n",
        "\n",
        "# Wave Functions and Tunneling\n",
        "*(c) Dhabih Chulhai, University of Indianapolis*    \n"
      ]
    },
    {
      "cell_type": "markdown",
      "metadata": {
        "id": "wFVSv-Q7rgOX"
      },
      "source": [
        "> ### <font color=\"red\">INFORMATION</font>\n",
        "> \n",
        "> There are 4 exercises below, labeled in **<font color=\"red\">red</font>**, that will be graded for credit. You can work with each other on these, but you must each submit your *individual* work to be graded."
      ]
    },
    {
      "cell_type": "markdown",
      "metadata": {
        "id": "XQnV4q6gmrjg"
      },
      "source": [
        "> ### <font color=\"magenta\">LEARNING OBJETIVES</font>\n",
        "> \n",
        "> <ol>\n",
        ">    <li>Learn to visualze complex wave functions in 3D space</li>\n",
        ">    <li>Understand how various barriers affect electron tunneling</li>\n",
        ">    <li>Understand orthogonality in wave functions</li>\n",
        ">    <li>Understand how a stationary state wave function evolves with time</li>"
      ]
    },
    {
      "cell_type": "markdown",
      "metadata": {
        "id": "jXEmjCXYwLzI"
      },
      "source": [
        "## 0. Necessary codes\n",
        "These are all the necessary import codes. You must rerun these every time you restart or reconnect your notebook. **You should not change any of the code below.**"
      ]
    },
    {
      "cell_type": "code",
      "metadata": {
        "id": "Q0UL9p9jwZJk"
      },
      "source": [
        "# let's import SymPy as sp like we did before\n",
        "# note that this only needs to be done once in the entire notebook\n",
        "import sympy as sp\n",
        "sp.init_printing()\n",
        "\n",
        "# This import will just remove warnings\n",
        "# You will still get error messages\n",
        "import warnings\n",
        "warnings.filterwarnings('ignore')\n",
        "\n",
        "# Let's import numpy, which does math for lots of numbers\n",
        "import numpy as np\n",
        "\n",
        "# Now we import the plotting parts\n",
        "%matplotlib notebook\n",
        "from matplotlib import pyplot as plt\n",
        "from mpl_toolkits.mplot3d import Axes3D\n",
        "from matplotlib import animation\n",
        "from IPython.display import HTML\n",
        "from matplotlib.patches import Rectangle\n"
      ],
      "execution_count": null,
      "outputs": []
    },
    {
      "cell_type": "markdown",
      "metadata": {
        "id": "7T4DttnV1qvY"
      },
      "source": [
        "## 1. The Complex Wave Function\n",
        "\n",
        "Let us consider some wave function\n",
        "\n",
        "$$ \\Psi(x) = e^{-ikx}$$\n",
        "\n",
        "You may recall that this is the momentum wave function, where $k$ is some constant and $i$ is the imaginary unit ($i=\\sqrt{-1}$). For simplicity, we'll make $k=1$.\n",
        "\n",
        "Let's plot the real part of this wave function between $x=0$ and $x=15$. Remember that Python uses `1j` for the complex number $i$, and we will use `psi.real` to get the real part of the variable `psi`."
      ]
    },
    {
      "cell_type": "code",
      "metadata": {
        "id": "cuWVDDS82LQo"
      },
      "source": [
        "# first create the variable x between 0 and 20 with 1000 points\n",
        "x = np.linspace(0, 15, 1000)\n",
        "\n",
        "# now let's create the wave function\n",
        "k = 1\n",
        "psi = np.exp( -1j * k * x)\n",
        "\n",
        "# now let's plot this function\n",
        "plt.title('Real part of $\\\\Psi$')\n",
        "plt.plot(x, psi.real, lw=3)\n",
        "plt.show()"
      ],
      "execution_count": null,
      "outputs": []
    },
    {
      "cell_type": "markdown",
      "metadata": {
        "id": "7-TJkLjt3__z"
      },
      "source": [
        "Now let's plot the imaginary part of `psi`."
      ]
    },
    {
      "cell_type": "code",
      "metadata": {
        "id": "rgpAwXLs4JGA"
      },
      "source": [
        "plt.title('Complex part of $\\\\Psi$')\n",
        "plt.plot(x, psi.imag, lw=3)"
      ],
      "execution_count": null,
      "outputs": []
    },
    {
      "cell_type": "markdown",
      "metadata": {
        "id": "oa_AvDIKhPry"
      },
      "source": [
        "The imaginary part of $e^{-ikx}$ is similar to the real part, except it's just shifted by $-\\pi/2$ on the x axis.\n",
        "\n",
        "For those of you still curious,\n",
        "\n",
        "$$e^{-ikx} = \\cos(kx) - i\\cdot\\sin(kx)$$\n",
        "\n",
        "So the real part of $e^{-ikx}$ is a cosine function and the imaginary part is a negative sine function. But I mentioned in class that you can think of the imaginary part as another axis, going into and out of the page. So, if we were to plot the real and imaginary parts together, we would need a 3D axis. Fortunately, we can do that with coding.\n",
        "\n",
        "Below, I'm going to set up a 3D graph, I will plot the real part of the wave function in blue and the imaginary part in red."
      ]
    },
    {
      "cell_type": "code",
      "metadata": {
        "id": "vk6LdvUMhubN"
      },
      "source": [
        "# Let's set up the wave function again\n",
        "x = np.linspace(0, 15, 1000)\n",
        "k = 1\n",
        "psi = np.exp( -1j * k * x)\n",
        "\n",
        "# we also need to create an array of zeros,\n",
        "# otherwise the plot will spit an error\n",
        "zero = np.zeros_like(x)\n",
        "\n",
        "# let's set up a 3d plot\n",
        "fig = plt.figure()\n",
        "ax = fig.add_subplot(111, projection='3d')\n",
        "\n",
        "# now let's plot the real part on the z-axis\n",
        "ax.plot(x, zero, psi.real, '-', color='b', lw=2)\n",
        "\n",
        "# now let's plot the imaginary part on the y-axis\n",
        "ax.plot(x, psi.imag, zero, '-', color='r', lw=2)\n",
        "\n",
        "# I'm going to add a thin black line to show the y=0, z=0 line\n",
        "ax.plot(x, zero, zero, '-', color='black', lw=1)\n",
        "\n",
        "plt.show()"
      ],
      "execution_count": null,
      "outputs": []
    },
    {
      "cell_type": "markdown",
      "metadata": {
        "id": "Kj_qmJr6lYKX"
      },
      "source": [
        "Let's analyze how to plot a 3D graph. We first called the code:\n",
        "> ```python\n",
        "fig = plt.figure()\n",
        "ax = figure.subplots(111, projection='3d')\n",
        "```\n",
        "\n",
        "This initializes the new figure and tells it that it should be in 3D. Note that these two lines should be called every time you want a new 3D plot.\n",
        "\n",
        "To actually make the plot, we did\n",
        "> ```python\n",
        "ax.plot(x, zero, psi.real, '-', color='blue', lw=2)\n",
        "```\n",
        "\n",
        "This tells the plot to use `x` for the x-axis; the `zero` tells it to use a bunch of zeros for the y-axis (remember, we are only plotting the real part on the z-axis and we created this `zero` variable erlier); and finally the `psi.real` tells it to use the real-part of `psi` in the z-axis. The other options just ensure we use a solid blue line of thickness `2`.\n",
        "\n",
        "Now that we understand how to make a 3D plot, let's plot the total (complex) wave function, in purple."
      ]
    },
    {
      "cell_type": "code",
      "metadata": {
        "id": "HwUm26vJld9v"
      },
      "source": [
        "# we need to set up the figure and plot again\n",
        "# let's set up a 3d plot\n",
        "fig = plt.figure()\n",
        "ax = fig.add_subplot(111, projection='3d')\n",
        "\n",
        "# plot the total wave function (real AND imaginary parts)\n",
        "ax.plot(x, psi.imag, psi.real, '-', color='purple', lw=3)\n",
        "\n",
        "# I'm going to add a thin black line to show the y=0, z=0 line\n",
        "ax.plot(x, zero, zero, '-', color='black', lw=1)\n"
      ],
      "execution_count": null,
      "outputs": []
    },
    {
      "cell_type": "markdown",
      "metadata": {
        "id": "msD-OfzRlvc2"
      },
      "source": [
        "As you can see from the plot above, visualizing a complex function can look much more interesting than just visalizing the real and imaginary parts alone. We can also see that this wave function never really goes to zero, but rather it wraps around the x-axis.\n"
      ]
    },
    {
      "cell_type": "markdown",
      "metadata": {
        "id": "7D0vSl8bnrhO"
      },
      "source": [
        "---\n",
        "### <font color=\"red\">Exercise 1: Visualizing the position wave function in 3D complex space</font>\n",
        "\n",
        "In the previous notebook, we learned that we can generate a \"position\" wave function using combinations of momentum wave functions. Below is a reproduction of this plot using $k=1,2,\\ldots,10$.\n",
        "\n"
      ]
    },
    {
      "cell_type": "code",
      "metadata": {
        "id": "qSnlFS3WoIL1"
      },
      "source": [
        "# let's set up the x coordinates\n",
        "x = np.linspace(-2, 2, 1000)\n",
        "\n",
        "# let's add up a bunch of momentum wave functions\n",
        "y = np.exp( -1j * 1 * x)\n",
        "for k in range(2, 11):\n",
        "    y += np.exp( -1j * k * x)\n",
        "\n",
        "# now let's plot this wave function in 2D (real part only)\n",
        "plt.plot(x, y.real)"
      ],
      "execution_count": null,
      "outputs": []
    },
    {
      "cell_type": "markdown",
      "metadata": {
        "id": "dVD9tj-Cs0Nt"
      },
      "source": [
        "Below, I will plot the imaginary part of this wave function."
      ]
    },
    {
      "cell_type": "code",
      "metadata": {
        "id": "TtH4Cue2s3I0"
      },
      "source": [
        "plt.plot(x, y.imag)"
      ],
      "execution_count": null,
      "outputs": []
    },
    {
      "cell_type": "markdown",
      "metadata": {
        "id": "CLcwtuRXooNX"
      },
      "source": [
        "Below, I will plot both the real and imaginary parts (separately) of this position wave function on a 3D graph."
      ]
    },
    {
      "cell_type": "code",
      "metadata": {
        "id": "AnXOsdPzq6rs"
      },
      "source": [
        "# we need to set up the figure and plot again\n",
        "# let's set up a 3d plot\n",
        "fig = plt.figure()\n",
        "ax = fig.add_subplot(111, projection='3d')\n",
        "\n",
        "# This is the real part\n",
        "ax.plot(x, zero, y.real, '-', color='blue', lw=3)\n",
        "\n",
        "# this is the imaginary part\n",
        "ax.plot(x, y.imag, zero, '-', color='red', lw=3)\n",
        "\n",
        "# I'm going to add a thin black line to show the y=0, z=0 line\n",
        "ax.plot(x, zero, zero, '-', color='black', lw=1)"
      ],
      "execution_count": null,
      "outputs": []
    },
    {
      "cell_type": "markdown",
      "metadata": {
        "id": "m7KkpYsKrMaD"
      },
      "source": [
        "In the code cells below, <font color=\"red\">plot the total complex wave function</font> in purple (the real AND imaginary parts TOGETHER). HINT: you only need to copy the code from the cell above and change it to plot both the real and imaginary parts simultaneously."
      ]
    },
    {
      "cell_type": "code",
      "metadata": {
        "id": "YlSWWLebrUL6"
      },
      "source": [
        "# Answer Exercise 1 in this code cell\n",
        "\n"
      ],
      "execution_count": null,
      "outputs": []
    },
    {
      "cell_type": "markdown",
      "metadata": {
        "id": "caJxA9ih4Psg"
      },
      "source": [
        "---\n",
        "\n",
        "## 2. Quantum Tunneling\n",
        "\n",
        "I presented electron tunneling to you as a consequence of having a non-infinte potential barrier, without showing you any of the math or how it actually works. (Full disclosure, I wrote this notebook before our lecture, so I'm not sure what, exactly, we will do for tunneling in lecture.)\n",
        "\n",
        "The math for tunneling is complicated, even when coding, so the next code block is going to be LONG. Did I take 10+ hours to figure it out and code it without (I hope) bugs? Who knows. But don't panic, I just want you to focus on a small part of the code. The beginning of the code block will look like this:\n",
        "> ```python\n",
        "E = 1.0\n",
        "V = 1.5\n",
        "m = 1.0\n",
        "L0 = 0.5\n",
        "L1 = 1.5\n",
        "A = 1.0\n",
        "```\n",
        "\n",
        "This sets up the system, where\n",
        "- `E` is the energy of the wave function (or of the particle)\n",
        "- `V` is the potential energy of the barrier (note that the code breaks if you set `V` to be the same as `E`, so try other values instead)\n",
        "- `m` is the mass of the particle (in no real units)\n",
        "- `L0` is leftmost edge of the potential barrier\n",
        "- `L1` is the rightmost edge of the potential barrier (make sure that `L1` is greater than `L0`; the length of the barrier will be `L1` $-$ `L0`)\n",
        "- `A` is just a number that represents the strength of the incident wave (you shouldn't have to change this number)\n",
        "\n",
        "Play around with these values (remember to re-run the code cell with `Shift+Enter` each time) to see how it affects the tunneling wave function."
      ]
    },
    {
      "cell_type": "code",
      "metadata": {
        "id": "7tOsMLOYwKXa"
      },
      "source": [
        "# set up initializing conditions\n",
        "E = 1.0\n",
        "V = 1.5\n",
        "m = 1.0\n",
        "L0 = 0.5\n",
        "L1 = 1.5\n",
        "A = 1.0\n",
        "\n",
        "########################################################\n",
        "# STOP HERE\n",
        "# YOU SHOULD NOT HAVE TO CHANGE ANYTHING BELOW THIS LINE\n",
        "########################################################\n",
        "\n",
        "# calculate other values\n",
        "k = np.lib.scimath.sqrt(2 *  m * E)\n",
        "b = np.lib.scimath.sqrt(2 * m * (V-E))\n",
        "\n",
        "# solve for the values of B, C, D, and F\n",
        "Amat = np.zeros((4,4), dtype=complex)\n",
        "Amat[0] = [np.exp(-1j*k*L0),\n",
        "           -np.exp(-b*L0),\n",
        "           -np.exp(b*L0),\n",
        "           0]\n",
        "Amat[1] = [0,\n",
        "           np.exp(-b*L1),\n",
        "           np.exp(b*L1),\n",
        "           -np.exp(1j*k*L1)]\n",
        "Amat[2] = [-1j*k*np.exp(-1j*k*L0),\n",
        "           b*np.exp(-b*L0),\n",
        "           -b*np.exp(b*L0),\n",
        "           0]\n",
        "Amat[3] = [0,\n",
        "           -b*np.exp(-b*L1),\n",
        "           b*np.exp(b*L1),\n",
        "           -1j*k*np.exp(1j*k*L1)]\n",
        "\n",
        "bmat = np.array([-np.exp(1j*k*L0)*A, 0, -1j*k*np.exp(1j*k*L0)*A, 0], dtype=complex)\n",
        "xmat = np.linalg.solve(Amat, bmat)\n",
        "B = xmat[0]\n",
        "C = xmat[1]\n",
        "D = xmat[2]\n",
        "F = xmat[3]\n",
        "\n",
        "# set up the x values\n",
        "x = np.linspace(-5,10,1000)\n",
        "idx_I = np.where(x<=L0)\n",
        "idx_II = np.where((x>=L0) & (x<=L1))\n",
        "idx_III = np.where(x>=L1)\n",
        "\n",
        "# initialize the graph\n",
        "fig, ax = plt.subplots(figsize=(15,8))\n",
        "\n",
        "# plot barrier region\n",
        "if V > 0:\n",
        "    alpha = max(0.1, min(1, V/5.0))\n",
        "    ax.axvspan(L0, L1, color='#2ca02c', alpha=alpha)\n",
        "\n",
        "\n",
        "ax.plot([-5,10], [0,0], 'k-', lw=1)\n",
        "\n",
        "# region I\n",
        "y_iA = A * np.exp(1j * k * x[idx_I])\n",
        "y_iB = B * np.exp(-1j * k * x[idx_I])\n",
        "y_i = y_iA + y_iB\n",
        "line_rI, = ax.plot(x[idx_I], y_i, '#1f77b4', lw=4)\n",
        "line_rI_i, = ax.plot(x[idx_I], y_iA, '--', color='#1f77b4', lw=2,\n",
        "                     label='incident wave')\n",
        "line_rI_r, = ax.plot(x[idx_I], y_iB, ':', color='#34baeb', lw=2,\n",
        "                     label='reflected wave')\n",
        "\n",
        "# region III\n",
        "y_t = F * np.exp(1j * k * x[idx_III])\n",
        "line_rIII, = ax.plot(x[idx_III], y_t, '#d62728', lw=4, label='transmitted wave')\n",
        "\n",
        "# region II\n",
        "y_tr = C * np.exp(-b * x[idx_II])\n",
        "y_tl = D * np.exp(b * x[idx_II])\n",
        "y_tun = y_tl + y_tr\n",
        "line_rII, = ax.plot(x[idx_II], y_tun, '-', color='#9467bd', lw=4)\n",
        "\n",
        "def drawframe(n):\n",
        "    theta = n * np.pi / 24.0\n",
        "    line_rI.set_data(x[idx_I], y_i.real*np.cos(theta) + y_i.imag*np.sin(theta))\n",
        "    line_rI_i.set_data(x[idx_I], y_iA.real*np.cos(theta) + y_iA.imag*np.sin(theta))\n",
        "    line_rI_r.set_data(x[idx_I], y_iB.real*np.cos(theta) + y_iB.imag*np.sin(theta))\n",
        "    line_rIII.set_data(x[idx_III], y_t.real*np.cos(theta) + y_t.imag*np.sin(theta))\n",
        "    line_rII.set_data(x[idx_II], y_tun.real*np.cos(theta) + y_tun.imag*np.sin(theta))\n",
        "    return (line_rI, line_rI_i, line_rI_r, line_rIII, line_rII)\n",
        "\n",
        "\n",
        "# label regions\n",
        "plt.text((L0-5)/2.0, -1, '$\\\\Psi_I$', fontsize=35,\n",
        "         horizontalalignment='center', color='#1f77b4')\n",
        "plt.text((L0+L1)/2.0, -1, '$\\\\Psi_{II}$', fontsize=35,\n",
        "         horizontalalignment='center', color='#9467bd')\n",
        "plt.text((L1+10)/2.0, -1, '$\\\\Psi_{III}$', fontsize=35,\n",
        "         horizontalalignment='center', color='#d62728')\n",
        "\n",
        "# labels and show\n",
        "plt.yticks([])\n",
        "plt.ylabel('$\\\\Psi$', fontsize=25)\n",
        "plt.xticks(range(-4,11,2), fontsize=20)\n",
        "plt.xlabel('$x$', fontsize=25)\n",
        "plt.legend(fontsize=18)\n",
        "\n",
        "anim = animation.FuncAnimation(fig, drawframe, frames=48, interval=100, blit=True)\n",
        "HTML(anim.to_html5_video())"
      ],
      "execution_count": null,
      "outputs": []
    },
    {
      "cell_type": "markdown",
      "metadata": {
        "id": "4XbKmDLh1Xi8"
      },
      "source": [
        "---\n",
        "### <font color=\"red\">Exercise 2: Understanding Quantum Tunneling</font>\n",
        "\n",
        "Play around with the values of `E`, `V`, `m`, `L0`, and `L1` in the code cell above and observe how they affect the particle's ability to tunnel. Observe that happens to the transmitted vs reflected wave functions. After you think you have a handle on things, answer the following questions.\n",
        "\n",
        "Double click on the text cells below to type your answers. I'm not looking for anything more than a sentence or two for each question.\n",
        "\n",
        "1. How does energy affect tunneling?\n",
        "2. Which would tunnel through some potential barrier more easily: A proton or an electron?\n",
        "3. How does the width of the potential barrier affect tunneling?\n",
        "4. What happens if there is no potential barrier? (HINT: You can explore this be chaging either the strength of the barrier with `V` or the width of the barrier with `L0` and `L1`.)\n"
      ]
    },
    {
      "cell_type": "markdown",
      "metadata": {
        "id": "yWwlqy7e2e24"
      },
      "source": [
        "<font color=\"red\">Double click here to answer Exercise 2.1</font>\n",
        "\n"
      ]
    },
    {
      "cell_type": "markdown",
      "metadata": {
        "id": "n7tcnAin2oVs"
      },
      "source": [
        "<font color=\"red\">Double click here to answer Exercise 2.2</font>\n",
        "\n"
      ]
    },
    {
      "cell_type": "markdown",
      "metadata": {
        "id": "-uzZjuYO5RaK"
      },
      "source": [
        "<font color=\"red\">Double click here to answer Exercise 2.3</font>\n",
        "\n",
        "\n",
        "\n",
        "\n"
      ]
    },
    {
      "cell_type": "markdown",
      "metadata": {
        "id": "qu6EG6EO5nJB"
      },
      "source": [
        "<font color=\"red\">Double click here to answer Exercise 2.4</font>\n",
        "\n",
        "\n"
      ]
    },
    {
      "cell_type": "markdown",
      "metadata": {
        "id": "Tk0_6CAV5uE5"
      },
      "source": [
        "---\n",
        "## Orthogonality\n",
        "\n",
        "Orthogonality is a measure of the \"overlap\" between two wave functions. This is a difficult concept to visualize, even with the help of coding. In linear algebra, two vectors are orthogonal if they at right angles to each other (in multi-dimensional space). That's the problem with linear algebra... there are too many dimensions. At least in quantum chemistry we're restricted to 3 dimensions in space, 1 dimension in time, 1 dimension to consider the wave function value, and maybe 1 more dimension if the wave function is complex --- but I digress. If there is any \"overlap\" between the vectors in linear algrebra, then they are NOT orthogonal.\n",
        "\n",
        "Let's examine this with simple vectors in 2 dimensions. Below, I used the following code to plot some arrows:\n",
        "> ```python\n",
        "x1 = 1\n",
        "y1 = 2\n",
        "plt.arrow(0, 0, x1, y1, color='red', width=0.1)\n",
        "```\n",
        "\n",
        "Here, the first two `0`s tell us the starting point of the arrows (at the origin), while the third number (`x1`) tell us the length of the arrow in the x-direction and the fourth number (`y1`) tell us the length of the arrow in the y-direction.\n",
        "\n",
        "Below, I will set up two arrows, one red and the other blue, and a simple algorithm to determine whether these vectors are orthogonal or not. The code will print `These two vectors ARE ORTHOGONAL!` if the two vectors are orthogonal, otherwise it will print `These two vectors are NOT ORTHOGONAL!`. Play around with the values of `x1`, `y1`, `x2`, and `y2` to see when these two vectors become orthogonal. Try to restrict your values between $-5$ and $+5$.\n"
      ]
    },
    {
      "cell_type": "code",
      "metadata": {
        "id": "xxNmCoMuAL-d"
      },
      "source": [
        "# set up and plot the first (red) vector\n",
        "x1 = 1\n",
        "y1 = 2\n",
        "plt.arrow(0, 0, x1, y1, color='red', width=0.1)\n",
        "\n",
        "# set up and plot the second (blue) vector\n",
        "x2 = 2\n",
        "y2 = -1\n",
        "plt.arrow(0, 0, x2, y2, color='blue', width=0.1)\n",
        "\n",
        "#######################################################\n",
        "# You shouldn't have to change any code below this line\n",
        "\n",
        "# the code below calculates the angle between the two vectors\n",
        "# and tells us whether the two vectors are orthogonal or not\n",
        "val = np.dot([x1, y1], [x2, y2])\n",
        "if abs(val) < 1e-6:\n",
        "    print ('These two vectors ARE ORTHOGONAL!')\n",
        "else:\n",
        "    print ('These two vectors are NOT ORTHOGONAL!')\n",
        "\n",
        "# the code below just sets the limits of the x- and y-axes\n",
        "# on the graph\n",
        "plt.grid(which='both', axis='both')\n",
        "plt.axis('scaled')\n",
        "xlim = plt.xlim((-6,6))\n",
        "ylim = plt.ylim((-6,6))\n"
      ],
      "execution_count": null,
      "outputs": []
    },
    {
      "cell_type": "markdown",
      "metadata": {
        "id": "3tefyA-sevNT"
      },
      "source": [
        "Now, let's examine this overlap for wave functions. Let's consider the wave functions\n",
        "$$\\Psi_1(x) = \\sqrt{2} \\sin( n \\pi x ); \\:\\: n=1 $$\n",
        "$$\\Psi_2(x) = \\sqrt{2} \\sin( n \\pi x ); \\:\\: n=2 $$\n",
        "These are the first two energy levels of particle-in-a-box with length of the box $a=1$.\n",
        "\n",
        "To aid you visually, below I will plot $\\Psi_1$ in blue and $\\Psi_2$ in red. I will then plot $\\Psi_1^*\\Psi_2$ (which I will call `psi_1_2`) in purple. (Note that these wave functions are all real, not complex, so we can plot them on a 2D graph). I will shade the positive areas of $\\Psi_1^*\\Psi_2$ in green and the negative areas in orange. These areas correspond to the integral of $\\int \\Psi_1^*\\Psi_2 dx$. If the positive areas and negative areas are equal, then the entire integral is zero and the two wave functions are orthogonal."
      ]
    },
    {
      "cell_type": "code",
      "metadata": {
        "id": "pniaTjAWfpia"
      },
      "source": [
        "# set up x variable between 0 and 1 (which is the\n",
        "# length of the box)\n",
        "x = np.linspace(0, 1, 1000)\n",
        "\n",
        "# let's also create a zero variable\n",
        "zero = np.zeros_like(x)\n",
        "\n",
        "#############################################\n",
        "# create psi_1\n",
        "n1 = 1\n",
        "psi_1 = np.sqrt(2) * np.sin( n1 * np.pi * x )\n",
        "\n",
        "# create psi_2\n",
        "n2 = 2\n",
        "psi_2 = np.sqrt(2) * np.sin( n2 * np.pi * x )\n",
        "\n",
        "#############################################\n",
        "\n",
        "# plot psi_1 and psi_2\n",
        "plt.plot(x, zero, '--', color='black')\n",
        "plt.plot(x, psi_1, '-', color='blue', lw=2)\n",
        "plt.plot(x, psi_2, '-', color='red', lw=2)\n",
        "\n",
        "# plot psi_1 * psi_2\n",
        "psi_1_2 = psi_1 * psi_2\n",
        "plt.plot(x, psi_1_2, '-', color='purple', lw=3)\n",
        "\n",
        "plt.fill_between(x, zero, psi_1*psi_2, color='green', alpha=0.3, where=psi_1_2>0)\n",
        "plt.fill_between(x, zero, psi_1*psi_2, color='orange', alpha=0.3, where=psi_1_2<0)"
      ],
      "execution_count": null,
      "outputs": []
    },
    {
      "cell_type": "markdown",
      "metadata": {
        "id": "YZHSb1UjinX4"
      },
      "source": [
        "---\n",
        "### <font color=\"red\">Exercise 3: Exploring Orthogonality with Graphs</font>\n",
        "\n",
        "Play around with the values of `n1` and `n2` in the code cell above. Notice what happens when `n1` and `n2` are different versus what happens when `n1` and `n2` are the same. Double click on the cell below to write a couple of sentences summarizing your observations. How does this tie into orthogonality? HINT: The shaded regions represent the integral (area) which can be positive or negative."
      ]
    },
    {
      "cell_type": "markdown",
      "metadata": {
        "id": "vpNqPn0drzlg"
      },
      "source": [
        "<font color=\"red\">Double click here to answer Exercise 3</font>\n",
        "\n"
      ]
    },
    {
      "cell_type": "markdown",
      "metadata": {
        "id": "RCM19woLr1s9"
      },
      "source": [
        "---\n",
        "\n",
        "## The Time-Dependent Schrodinger Equation\n",
        "\n",
        "We learned that the time-dependent Schrodinger Equation is \n",
        "\n",
        "$$ \\hat{H}\\Psi = i\\hbar \\frac{\\partial }{\\partial t} \\Psi $$\n",
        "\n",
        "In the case of stationary states, like a partcle-in-a-box solution, the total wave function has a part that depends on position only and another part that depends on time only.\n",
        "\n",
        "$$ \\Psi(x,t) = \\psi(x) \\cdot f(t) $$\n",
        "\n",
        "The part that depends on position only can be found from the time-independent Schrodinger equation\n",
        "\n",
        "$$ \\hat{H}\\psi(x) = E\\psi(x) $$\n",
        "\n",
        "Therefore, for stationary states, the time-dependent Schrodinger Equation is\n",
        "\n",
        "$$ i\\hbar \\frac{\\partial }{\\partial t} \\Psi = E\\Psi $$\n",
        "\n",
        "Or, broken down\n",
        "\n",
        "$$ i\\hbar \\frac{\\partial }{\\partial t} \\psi(x)\\cdot f(t) = E\\psi(x) \\cdot f(t) $$\n",
        "\n",
        "What is this time function in stationary states? We can solve it by removing the $\\psi(x)$ part:\n",
        "\n",
        "$$ i\\hbar \\frac{\\partial }{\\partial t} \\cdot f(t) = E \\cdot f(t) $$\n",
        "\n",
        "Divide both sides by $i\\hbar$ ($\\frac{1}{i}$ is the same as $-i$)\n",
        "\n",
        "$$ \\frac{\\partial }{\\partial t} \\cdot f(t) = \\frac{-iE}{\\hbar} \\cdot f(t) $$\n",
        "\n",
        "To solve this, what function returns $\\frac{-iE}{\\hbar}$ times the same function when you find the time derivative? The answer is:\n",
        "\n",
        "$$ f(t) = e^\\frac{-iEt}{\\hbar}$$\n",
        "\n",
        "So the total wave function becomes\n",
        "\n",
        "$$\\Psi(x,t) = \\psi(x) \\cdot e^\\frac{-iEt}{\\hbar}$$\n",
        "\n",
        "So all wave function, even for stationary states, are continously moving (it has a dependence on time). It's time to see what this motion is! As you guess, the wave function, even if the position part $\\psi(x)$ was real, has now become complex. So to visualize this, we will need a 3D graph.\n",
        "\n",
        "Below, I will plot the animation for a particle-in-a-box. Remember that the position part of this wave function is\n",
        "\n",
        "$$ \\psi_n(x) = \\sqrt{\\frac{2}{a}} \\sin\\left( \\frac{n\\pi x}{a} \\right); \\:\\: n=1,2,3,\\ldots $$\n",
        "\n",
        "where $a$ is the length of the box and $n$ is some constant. So the full solution of the time-dependent schrodinger equation is\n",
        "\n",
        "$$ \\Psi_n(x,t) = \\sqrt{\\frac{2}{a}} \\sin\\left( \\frac{n\\pi x}{a} \\right) e^\\frac{-iE_nt}{\\hbar} $$\n",
        "\n",
        "where the energy $E_n$ is\n",
        "\n",
        "$$ E_n = \\frac{n^2 h^2}{8 m a^2} $$\n",
        "\n",
        "A couple of things to notice:\n",
        "1. The wave function $\\Psi$ has a time-dependence, meaning that it moves / changes with the passage of time.\n",
        "2. The wave function $\\Psi$ is complex, which means that it should span the imaginary axis as well.\n",
        "\n",
        "In the code cell below, I'm going to plot this time-dependent wave function. The variables `L`, `n`, and `m` controls the length of the box $a$, the quantum level $n$, and the mass of the particle $m$, respectively. Note that the mass is not in any particular unit. In the output, you should see an animated graph showing the time-dependent wave function."
      ]
    },
    {
      "cell_type": "code",
      "metadata": {
        "id": "l6CmbSZdxXwX"
      },
      "source": [
        "# set up the system\n",
        "L = 1.0\n",
        "n = 3\n",
        "m = 1.0\n",
        "\n",
        "########################################################\n",
        "# You shouldn't have to change anything below this point\n",
        "\n",
        "# find the energy\n",
        "E = n**2 / (8 * m * L**2)\n",
        "\n",
        "x = np.linspace(0, L,1000)\n",
        "y = np.zeros_like(x)\n",
        "psi = np.sqrt(2/L) * np.sin(n * np.pi * x / L)\n",
        "\n",
        "fig = plt.figure(figsize=(18,8))\n",
        "ax = fig.add_subplot(111, projection='3d')\n",
        "\n",
        "ax.plot(x, y, y, 'k-', lw=2)\n",
        "\n",
        "line, = ax.plot(x, y, psi, 'b-', lw=3)\n",
        "\n",
        "def drawframe(t):\n",
        "    psi_t = psi * np.exp(-1j * t * np.pi / 50.0)\n",
        "    psi_z = psi_t.real\n",
        "    psi_y = psi_t.imag\n",
        "    line.set_data(x, psi_y)\n",
        "    line.set_3d_properties(psi_z)\n",
        "    return (line,)\n",
        "\n",
        "plt.ylim((-2,2))\n",
        "\n",
        "# change the interval to account for the rotation speed\n",
        "interval = int( 20.0 * np.pi / E)\n",
        "\n",
        "anim = animation.FuncAnimation(fig, drawframe, frames=100, interval=interval, blit=True)\n",
        "HTML(anim.to_html5_video())"
      ],
      "execution_count": null,
      "outputs": []
    },
    {
      "cell_type": "markdown",
      "metadata": {
        "id": "IuBffyzExsUS"
      },
      "source": [
        "---\n",
        "### <font color=\"red\">Exercise 4: Exploring the Time-Dependent Schrodinger Equation</font>\n",
        "\n",
        "Explore the graph above by varying `L`, `n`, and `m`. Observe how the graph changes, including how fast the wave function rotates, then answer the following questions (in no more than a couple of sentences):\n",
        "\n",
        "1. How does the length of the box `L` affect the rotation speed of the particle wave function?\n",
        "2. How does the mass `m` affect the rotation speed of the particle wave function?\n",
        "3. How does the quantum level `n` affect the rotation speed of the particle wave function?\n",
        "4. Do the \"nodes\" of the wave function change as it rotates?\n"
      ]
    },
    {
      "cell_type": "markdown",
      "metadata": {
        "id": "i2TxsWNKzLF2"
      },
      "source": [
        "<font color=\"red\">Double click here to answer Exercise 4.1</font>\n",
        "\n"
      ]
    },
    {
      "cell_type": "markdown",
      "metadata": {
        "id": "bBa61UddzN1N"
      },
      "source": [
        "<font color=\"red\">Double click here to answer Exercise 4.3</font>\n",
        "\n"
      ]
    },
    {
      "cell_type": "markdown",
      "metadata": {
        "id": "ZRtaLnAvzPPj"
      },
      "source": [
        "<font color=\"red\">Double click here to answer Exercise 4.3</font>\n",
        "\n"
      ]
    },
    {
      "cell_type": "markdown",
      "metadata": {
        "id": "rG4MvgfCzQeT"
      },
      "source": [
        "<font color=\"red\">Double click here to answer Exercise 4.4</font>\n",
        "\n"
      ]
    },
    {
      "cell_type": "markdown",
      "metadata": {
        "id": "gfm-NkadrgOj"
      },
      "source": [
        "---\n",
        "\n",
        "## <font color=\"red\">Submit your work</font>\n",
        "\n",
        "When you're done with this Jupyter notebook, click `Runtime`, then `Restart and run all`. If the cell below runs and prints properly, then the notebook has no errors."
      ]
    },
    {
      "cell_type": "code",
      "metadata": {
        "id": "GQUaJq6-zfht"
      },
      "source": [
        "print ('Everything ran without errors!')"
      ],
      "execution_count": null,
      "outputs": []
    },
    {
      "cell_type": "markdown",
      "metadata": {
        "id": "U7VWgQAMzoMl"
      },
      "source": [
        "Finally, click `Share` to share it with me (`chulhaid@uindy.edu`) as a `commenter`.\r\n"
      ]
    }
  ]
}